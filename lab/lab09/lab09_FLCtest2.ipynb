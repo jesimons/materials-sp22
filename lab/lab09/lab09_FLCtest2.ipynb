{
 "cells": [
  {
   "cell_type": "code",
   "execution_count": 3,
   "id": "0ce63de4",
   "metadata": {},
   "outputs": [],
   "source": [
    "# Initialize Otter\n",
    "import otter\n",
    "grader = otter.Notebook(\"lab09_FLC.ipynb\")"
   ]
  },
  {
   "cell_type": "markdown",
   "id": "6462645a",
   "metadata": {},
   "source": [
    "# Lab 9: Regression, but modified for our FLC\n",
    "\n",
    "Welcome to Lab 9!\n",
    "\n",
    "Today we will get some hands-on practice with linear regression. You can find more information about this topic in\n",
    "[Chapter 15.2](https://www.inferentialthinking.com/chapters/15/2/Regression_Line.html#the-regression-line).\n",
    "\n",
    "**Submission**: Once you’re finished, run all cells besides the last one, select File > Save Notebook, and then execute the final cell. Then submit the downloaded zip file, that includes your notebook,  according to your instructor's directions.\n",
    "\n",
    "**Editor's note:** This lab has been modified from the original Lab 9 notebook to adapt it for our FLC. It may not be perfect, but here goes!"
   ]
  },
  {
   "cell_type": "code",
   "execution_count": 4,
   "id": "6828dd42",
   "metadata": {
    "execution": {
     "iopub.execute_input": "2022-04-12T07:59:19.464204Z",
     "iopub.status.busy": "2022-04-12T07:59:19.463490Z",
     "iopub.status.idle": "2022-04-12T07:59:21.239537Z",
     "shell.execute_reply": "2022-04-12T07:59:21.238550Z"
    }
   },
   "outputs": [],
   "source": [
    "# Run this cell, but please don't change it.\n",
    "\n",
    "# These lines import the Numpy and Datascience modules.\n",
    "import numpy as np\n",
    "from datascience import *\n",
    "\n",
    "# These lines do some fancy plotting magic.\n",
    "import matplotlib\n",
    "%matplotlib inline\n",
    "import matplotlib.pyplot as plots\n",
    "plots.style.use('fivethirtyeight')\n",
    "import warnings\n",
    "warnings.simplefilter('ignore', FutureWarning)\n",
    "\n",
    "import d8error"
   ]
  },
  {
   "cell_type": "markdown",
   "id": "41988dd9",
   "metadata": {},
   "source": [
    "# Introduction to Linear Regression \n",
    "\n",
    "Before we get into the lab examples, it might be helpful for us to know a bit about linear regression first.\n",
    "\n",
    "Linear regression is simply a way to model relationships between two or more variables. For two variables, we use a familiar equation:\n",
    "$$y = mx+b$$\n",
    "Here, $x$ represents an independent (predictor) variable and $y$ represents a depended (predicted) variable. For consistency with other materials, we will instead write:\n",
    "$$y = \\beta_0 + \\beta_1 x$$\n",
    "as our model. \n",
    "\n",
    "Our goal with regression is to find the **best** linear equation that fits our data. By **best**, we mean the line that is the **closest** to all data points, when compared to any other line.\n",
    "\n",
    "## But wait, not all relationships are linear ... isn't this a bit simplistic?\n",
    "\n",
    "How astute of you! It's true, not all relationships are linear.\n",
    "\n",
    "However, many variables can be mathematically *transformed* so that the relationship can be modeled as linear. While we won't get into the details of such transformations here, this concept makes linear regression *impressively* powerful for a *huge* range of relationships between variables.\n",
    "\n",
    "To illustrate this, let's run the following code. Please do not change anything in the cell below.\n"
   ]
  },
  {
   "cell_type": "code",
   "execution_count": 5,
   "id": "9d6ba2c1",
   "metadata": {},
   "outputs": [
    {
     "data": {
      "text/html": [
       "<table border=\"1\" class=\"dataframe\">\n",
       "    <thead>\n",
       "        <tr>\n",
       "            <th>x</th> <th>y</th>\n",
       "        </tr>\n",
       "    </thead>\n",
       "    <tbody>\n",
       "        <tr>\n",
       "            <td>6.5116</td> <td>29.3244   </td>\n",
       "        </tr>\n",
       "        <tr>\n",
       "            <td>5.2734</td> <td>3.78316   </td>\n",
       "        </tr>\n",
       "        <tr>\n",
       "            <td>9.7254</td> <td>53.9088   </td>\n",
       "        </tr>\n",
       "        <tr>\n",
       "            <td>1.906 </td> <td>0.00413179</td>\n",
       "        </tr>\n",
       "        <tr>\n",
       "            <td>1.4424</td> <td>1.479     </td>\n",
       "        </tr>\n",
       "        <tr>\n",
       "            <td>4.2212</td> <td>2.21541   </td>\n",
       "        </tr>\n",
       "        <tr>\n",
       "            <td>5.8754</td> <td>15.499    </td>\n",
       "        </tr>\n",
       "        <tr>\n",
       "            <td>2.3934</td> <td>10.2764   </td>\n",
       "        </tr>\n",
       "        <tr>\n",
       "            <td>9.6504</td> <td>11.5889   </td>\n",
       "        </tr>\n",
       "        <tr>\n",
       "            <td>6.6052</td> <td>17.4877   </td>\n",
       "        </tr>\n",
       "    </tbody>\n",
       "</table>\n",
       "<p>... (490 rows omitted)</p>"
      ],
      "text/plain": [
       "x      | y\n",
       "6.5116 | 29.3244\n",
       "5.2734 | 3.78316\n",
       "9.7254 | 53.9088\n",
       "1.906  | 0.00413179\n",
       "1.4424 | 1.479\n",
       "4.2212 | 2.21541\n",
       "5.8754 | 15.499\n",
       "2.3934 | 10.2764\n",
       "9.6504 | 11.5889\n",
       "6.6052 | 17.4877\n",
       "... (490 rows omitted)"
      ]
     },
     "execution_count": 5,
     "metadata": {},
     "output_type": "execute_result"
    }
   ],
   "source": [
    "# Creating some random data to work with\n",
    "rawDataX0 = np.arange(1,501,1)+np.random.choice(np.arange(2,500,0.01), 500)\n",
    "rawDataY0 = (rawDataX0+np.random.choice(np.arange(-250,250,1), 500))**2\n",
    "rawDataX = rawDataX0/50;\n",
    "rawDataY = (rawDataY0-min(rawDataY0)+1)/10000\n",
    "\n",
    "# Creating a data table\n",
    "myData = Table().with_column(\"x\",rawDataX)\n",
    "myData = myData.with_column(\"y\",rawDataY)\n",
    "myData "
   ]
  },
  {
   "cell_type": "markdown",
   "id": "7d3b1f64",
   "metadata": {},
   "source": [
    "Note that the data above contains x and y variables as pairs. Let's take a look at the data."
   ]
  },
  {
   "cell_type": "code",
   "execution_count": 6,
   "id": "9f9ae40e",
   "metadata": {},
   "outputs": [
    {
     "data": {
      "image/png": "[encoded data removed]",
      "text/plain": [
       "<Figure size 500x500 with 1 Axes>"
      ]
     },
     "metadata": {},
     "output_type": "display_data"
    }
   ],
   "source": [
    "myData.scatter(0) "
   ]
  },
  {
   "cell_type": "markdown",
   "id": "18a69208",
   "metadata": {},
   "source": [
    "This data certainly does not look linear right now, it appears to have some non-linear (i.e. curvy) relationship. \n",
    "\n",
    "Now we will *transform* the data mathematically. Running the code below *but do not change it*."
   ]
  },
  {
   "cell_type": "code",
   "execution_count": 7,
   "id": "79063a11",
   "metadata": {},
   "outputs": [
    {
     "data": {
      "text/html": [
       "<table border=\"1\" class=\"dataframe\">\n",
       "    <thead>\n",
       "        <tr>\n",
       "            <th>x</th> <th>y</th>\n",
       "        </tr>\n",
       "    </thead>\n",
       "    <tbody>\n",
       "        <tr>\n",
       "            <td>6.5116</td> <td>5.4152  </td>\n",
       "        </tr>\n",
       "        <tr>\n",
       "            <td>5.2734</td> <td>1.94504 </td>\n",
       "        </tr>\n",
       "        <tr>\n",
       "            <td>9.7254</td> <td>7.34226 </td>\n",
       "        </tr>\n",
       "        <tr>\n",
       "            <td>1.906 </td> <td>0.064279</td>\n",
       "        </tr>\n",
       "        <tr>\n",
       "            <td>1.4424</td> <td>1.21614 </td>\n",
       "        </tr>\n",
       "        <tr>\n",
       "            <td>4.2212</td> <td>1.48843 </td>\n",
       "        </tr>\n",
       "        <tr>\n",
       "            <td>5.8754</td> <td>3.93688 </td>\n",
       "        </tr>\n",
       "        <tr>\n",
       "            <td>2.3934</td> <td>3.20569 </td>\n",
       "        </tr>\n",
       "        <tr>\n",
       "            <td>9.6504</td> <td>3.40425 </td>\n",
       "        </tr>\n",
       "        <tr>\n",
       "            <td>6.6052</td> <td>4.18183 </td>\n",
       "        </tr>\n",
       "    </tbody>\n",
       "</table>\n",
       "<p>... (490 rows omitted)</p>"
      ],
      "text/plain": [
       "x      | y\n",
       "6.5116 | 5.4152\n",
       "5.2734 | 1.94504\n",
       "9.7254 | 7.34226\n",
       "1.906  | 0.064279\n",
       "1.4424 | 1.21614\n",
       "4.2212 | 1.48843\n",
       "5.8754 | 3.93688\n",
       "2.3934 | 3.20569\n",
       "9.6504 | 3.40425\n",
       "6.6052 | 4.18183\n",
       "... (490 rows omitted)"
      ]
     },
     "execution_count": 7,
     "metadata": {},
     "output_type": "execute_result"
    }
   ],
   "source": [
    "y_transformed = myData.column(\"y\")**0.5\n",
    "myData_transformed = Table().with_columns(\"x\", myData.column(\"x\"),\"y\", y_transformed)\n",
    "myData_transformed"
   ]
  },
  {
   "cell_type": "markdown",
   "id": "75a4adfd",
   "metadata": {},
   "source": [
    "It is hard to tell what this transformation may have done to our data, so let's visualize our new data by running the code below."
   ]
  },
  {
   "cell_type": "code",
   "execution_count": 8,
   "id": "ffba836b",
   "metadata": {},
   "outputs": [
    {
     "data": {
      "image/png": "[encoded data removed]",
      "text/plain": [
       "<Figure size 500x500 with 1 Axes>"
      ]
     },
     "metadata": {},
     "output_type": "display_data"
    }
   ],
   "source": [
    "myData_transformed.scatter(0) "
   ]
  },
  {
   "cell_type": "markdown",
   "id": "1db64bbd",
   "metadata": {},
   "source": [
    "Now the data appears linearly-related now and we could model this relationship with a model like $$y = \\beta_0 + \\beta_1 x.$$\n",
    "\n",
    "# Concepts needed for Linear Regression\n",
    "\n",
    "The general concepts needed for linear regression are:\n",
    "\n",
    "   1. **Averages** (means) of $x$ and $y$. These are usually notated as $\\bar{x}$ and $\\bar{y}$. \n",
    "   2. **Standard deviations** of $x$ and $y$ (notated as $s_x$ and $s_y$). These give us an idea of the general *spread* of the data.\n",
    "   3. **Correlation** between $x$ and $y$ (notated as $r$) this is a number between -1 and 1 that measures how much $x$ and $y$ are related. If they are perfectly related (i.e. no randomness in our linear data) and the slope of the relationship is *positive*, the correlation is 1. If they are perfectly related (i.e. no randomness in our linear data) and the slope of the relationship is *negative*, the correlation is -1. A correlation of 0 indicates no relationship.\n",
    "   4. **Residuals** (usually notated as $e_i$). If we consider a data point $(x_i,y_i)$ in our data set, residuals can be thought of as the deviation of the *actual* $y$-value ($y_i$) from the *predicted* $y$ value from the regression line (i.e. $y(x_i) = \\beta_0+\\beta_1 x_i$). In other words, residuals are defined as: $$ e_i = y_i - y(x_i) = y_i - \\beta_0-\\beta_1 x_i$$\n",
    "   \n",
    "Let's find these measures for myData_transformed. Fill in the cell below.\n",
    "   "
   ]
  },
  {
   "cell_type": "code",
   "execution_count": 10,
   "id": "732f467b",
   "metadata": {},
   "outputs": [
    {
     "name": "stdout",
     "output_type": "stream",
     "text": [
      "9.9723984 5.05457097475\n"
     ]
    }
   ],
   "source": [
    "# Find the average of x and y below:\n",
    "mean_x = np.average(myData_transformed.column(\"x\"))\n",
    "mean_y = np.average(myData_transformed.column(\"y\"))\n",
    "\n",
    "print(mean_x, mean_y)\n"
   ]
  },
  {
   "cell_type": "markdown",
   "id": "1bb41ffc",
   "metadata": {},
   "source": [
    "Now let's find the standard deviations using np.std(array)."
   ]
  },
  {
   "cell_type": "code",
   "execution_count": 11,
   "id": "f89971e2",
   "metadata": {},
   "outputs": [
    {
     "name": "stdout",
     "output_type": "stream",
     "text": [
      "4.05428534094 2.42329788506\n"
     ]
    }
   ],
   "source": [
    "# Find the standard deviations of x and y below:\n",
    "std_x = np.std(myData_transformed.column(\"x\"))\n",
    "std_y = np.std(myData_transformed.column(\"y\"))\n",
    "\n",
    "print(std_x, std_y)\n"
   ]
  },
  {
   "cell_type": "markdown",
   "id": "d4dfa0d6",
   "metadata": {},
   "source": [
    "Your averages should be around $(\\bar{x},\\bar{y})=(10,5)$ and your standard deviations should be around $(s_x,s_y)=(4,2.4)$. *Note that these estimates are not exact--our data set is randomly re-generated every time we run our code.*\n",
    "\n",
    "Now let's find correlation using the concept of *standard units*. Standard (or normalized) units are defined as:\n",
    "$$ x_{standard} = \\frac{x -\\bar{x}}{s_x}$$\n",
    "$$ y_{standard} = \\frac{y -\\bar{y}}{s_y}$$\n",
    "Importantly, this tranforms our variables to a standard frame of reference where the **means of $x_{standard}$ and $y_{standard}$ are 0** and the **standard deviations of $x_{standard}$ and $y_{standard}$ are 1**.\n",
    "\n",
    "Fill in the code below to find the standardized $x$ and $y$ variables from myData_transformed:"
   ]
  },
  {
   "cell_type": "code",
   "execution_count": 12,
   "id": "34e7dc96",
   "metadata": {},
   "outputs": [],
   "source": [
    "x_standard = (myData_transformed.column(\"x\")-mean_x)/std_x\n",
    "y_standard = (myData_transformed.column(\"y\")-mean_y)/std_y"
   ]
  },
  {
   "cell_type": "markdown",
   "id": "3f8142d3",
   "metadata": {},
   "source": [
    "Now we are ready to find correlation, which is found by **multiplying** $x_{standard}$ and $y_{standard}$ and then taking their average. Fill in the cell below:"
   ]
  },
  {
   "cell_type": "code",
   "execution_count": 13,
   "id": "67d721c2",
   "metadata": {},
   "outputs": [
    {
     "data": {
      "text/plain": [
       "0.7927741757456086"
      ]
     },
     "execution_count": 13,
     "metadata": {},
     "output_type": "execute_result"
    }
   ],
   "source": [
    "r = np.mean(x_standard * y_standard)\n",
    "r"
   ]
  },
  {
   "cell_type": "markdown",
   "id": "d460da10",
   "metadata": {},
   "source": [
    "You answer should be around 0.8, which means the variables are fairly linearly related! This means using a linear regression model is warranted.\n",
    "\n",
    "\n",
    "# How to find a Regression Line   \n",
    "   \n",
    "A regression line is a line $y = \\beta_0+\\beta_1 x$ that satisfies two major conditions:\n",
    "   1. The line must go through the average $(x,y)$ point, which is $(\\bar{x},\\bar{y})$.\n",
    "   2. The line must minimize residule values (i.e. fit the data the best).\n",
    "Our task is to find $\\beta_0$ (the y-intercept) and $\\beta_1$ (the slope).\n",
    "   \n",
    "It turns out that the formulas for finding these are fairly simple. First, we find $\\beta_1$ using this formula:\n",
    "$$ \\beta_1 = r\\frac{s_y}{s_x}$$\n",
    "Then, we find $\\beta_0$ using:\n",
    "$$ \\beta_0 = \\bar{y}-\\beta_1 \\bar{x}$$\n",
    "This definition of $\\beta_0$ enforces that the line goes through $(\\bar{x},\\bar{y})$. The combination of these two definitions for $\\beta_0$ and $\\beta_1$ minimize residule values.\n",
    "\n",
    "Let's now find $\\beta_0$ and $\\beta_1$. Fill in the code below."
   ]
  },
  {
   "cell_type": "code",
   "execution_count": 14,
   "id": "79aaa16a",
   "metadata": {},
   "outputs": [],
   "source": [
    "beta_1 = r*std_y/std_x\n",
    "beta_0 = mean_y-beta_1*mean_x"
   ]
  },
  {
   "cell_type": "markdown",
   "id": "2a63f398",
   "metadata": {},
   "source": [
    "# Plotting a regression line\n",
    "\n",
    "For this, we need a new function to help us plot lines. Please run the code below *without changing it*."
   ]
  },
  {
   "cell_type": "code",
   "execution_count": 15,
   "id": "26eaa469",
   "metadata": {},
   "outputs": [],
   "source": [
    "def plot_data_and_line(dataset, x, y, point_0, point_1):\n",
    "    \"\"\"Makes a scatter plot of the dataset, along with a line passing through two points.\"\"\"\n",
    "    dataset.scatter(x, y, label=\"data\")\n",
    "    xs, ys = zip(point_0, point_1)\n",
    "    plots.plot(xs, ys, label=\"regression line\")\n",
    "    plots.legend(bbox_to_anchor=(1.5,.8))"
   ]
  },
  {
   "cell_type": "markdown",
   "id": "3d98cecb",
   "metadata": {},
   "source": [
    "Recall our linear regression model is:\n",
    "$$ y = \\beta_0+\\beta_1 x$$\n",
    "To plot a line using this equation, we just need two $x$ values so we can compute two *predicted* $y$ values. This results in two points, which we will use to plot a line.\n",
    "\n",
    "Let's suppose $x_1$ is the minumum $x$ value and $x_2$ is the maximum $x$value in myData_transformed. Fill in the code below to find the predicted $y$ values:"
   ]
  },
  {
   "cell_type": "code",
   "execution_count": 16,
   "id": "f4edc545",
   "metadata": {},
   "outputs": [
    {
     "name": "stdout",
     "output_type": "stream",
     "text": [
      "0.7462 0.682725769935\n",
      "18.7694 9.22304075985\n"
     ]
    }
   ],
   "source": [
    "x1 = min(myData_transformed.column(\"x\"))\n",
    "x2 = max(myData_transformed.column(\"x\"))\n",
    "y1 = beta_0+beta_1*x1\n",
    "y2 = beta_0+beta_1*x2\n",
    "\n",
    "# Print out points on the line:\n",
    "print(x1,y1)\n",
    "print(x2,y2)"
   ]
  },
  {
   "cell_type": "code",
   "execution_count": 17,
   "id": "40059c7e",
   "metadata": {},
   "outputs": [
    {
     "data": {
      "image/png": "[encoded data removed]",
      "text/plain": [
       "<Figure size 500x500 with 1 Axes>"
      ]
     },
     "metadata": {},
     "output_type": "display_data"
    }
   ],
   "source": [
    "plot_data_and_line(myData_transformed, \n",
    "                   \"x\", \n",
    "                   \"y\", \n",
    "                   [x1, y1], \n",
    "                   [x2, y2])"
   ]
  },
  {
   "cell_type": "markdown",
   "id": "a7245d66",
   "metadata": {},
   "source": [
    "If we want to return to our original data set and *un-transform* our model (i.e. undo the mathematical operations that created `myData_transformed`) to get a regression **curve**, it is not hard to do. \n",
    "\n",
    "Run the following code without changing it to see the result:"
   ]
  },
  {
   "cell_type": "code",
   "execution_count": 25,
   "id": "d39bea6f",
   "metadata": {},
   "outputs": [
    {
     "data": {
      "image/png": "[encoded data removed]",
      "text/plain": [
       "<Figure size 500x500 with 1 Axes>"
      ]
     },
     "metadata": {},
     "output_type": "display_data"
    }
   ],
   "source": [
    "def plot_data_and_curve(dataset, x, y, xs, ys):\n",
    "    \"\"\"Makes a scatter plot of the dataset, along with a curve passing through (xs,ys) points.\"\"\"\n",
    "    dataset.scatter(x, y, label=\"data (original)\")\n",
    "    plots.plot(xs, ys, label=\"regression curve\")\n",
    "    plots.legend(bbox_to_anchor=(1.5,.8))\n",
    "    \n",
    "xs = np.arange(x1,x2,0.1)\n",
    "ys = (beta_0+beta_1*xs)**2 # Undoing the transformation operation here\n",
    "    \n",
    "plot_data_and_curve(myData, \n",
    "                   \"x\", \n",
    "                   \"y\", \n",
    "                   xs, \n",
    "                   ys)    "
   ]
  },
  {
   "cell_type": "markdown",
   "id": "13898c75",
   "metadata": {},
   "source": [
    "Now we're ready to explore a real-world data set!"
   ]
  },
  {
   "cell_type": "markdown",
   "id": "e2c09d4f",
   "metadata": {},
   "source": [
    "# 1. How Faithful is Old Faithful? \n",
    "\n",
    "Old Faithful is a geyser in Yellowstone National Park that is famous for eruption on a fairly regular schedule. Run the cell below to see Old Faithful in action!"
   ]
  },
  {
   "cell_type": "code",
   "execution_count": 2,
   "id": "e5125b5a",
   "metadata": {
    "execution": {
     "iopub.execute_input": "2022-04-12T07:59:21.244299Z",
     "iopub.status.busy": "2022-04-12T07:59:21.244008Z",
     "iopub.status.idle": "2022-04-12T07:59:21.298826Z",
     "shell.execute_reply": "2022-04-12T07:59:21.297992Z"
    }
   },
   "outputs": [
    {
     "data": {
      "image/jpeg": "[encoded data removed]",
      "text/html": [
       "\n",
       "        <iframe\n",
       "            width=\"400\"\n",
       "            height=\"300\"\n",
       "            src=\"https://www.youtube.com/embed/wE8NDuzt8eg\"\n",
       "            frameborder=\"0\"\n",
       "            allowfullscreen\n",
       "            \n",
       "        ></iframe>\n",
       "        "
      ],
      "text/plain": [
       "<IPython.lib.display.YouTubeVideo at 0x7fc154555e80>"
      ]
     },
     "execution_count": 2,
     "metadata": {},
     "output_type": "execute_result"
    }
   ],
   "source": [
    "# For the curious: this is how to display a YouTube video in a\n",
    "# Jupyter notebook.  The argument to YouTubeVideo is the part\n",
    "# of the URL (called a \"query parameter\") that identifies the\n",
    "# video.  For example, the full URL for this video is:\n",
    "#   https://www.youtube.com/watch?v=wE8NDuzt8eg\n",
    "from IPython.display import YouTubeVideo\n",
    "YouTubeVideo(\"wE8NDuzt8eg\")"
   ]
  },
  {
   "cell_type": "markdown",
   "id": "d5ed2f7b",
   "metadata": {},
   "source": [
    "Some of Old Faithful's eruptions last longer than others.  Whenever there is a long eruption, it is usually followed by an even longer wait before the next eruption. If you visit Yellowstone, you might want to predict when the next eruption will happen, so that you can see the rest of the park instead of waiting by the geyser.\n",
    " \n",
    "Today, we will use a dataset on eruption durations and waiting times to see if we can make such predictions accurately with linear regression.\n",
    "\n",
    "The dataset has one row for each observed eruption.  It includes the following columns:\n",
    "- `duration`: Eruption duration, in minutes\n",
    "- `wait`: Time between this eruption and the next, also in minutes\n",
    "\n",
    "Run the next cell to load the dataset."
   ]
  },
  {
   "cell_type": "code",
   "execution_count": 3,
   "id": "57f08d38",
   "metadata": {
    "execution": {
     "iopub.execute_input": "2022-04-12T07:59:21.302653Z",
     "iopub.status.busy": "2022-04-12T07:59:21.302387Z",
     "iopub.status.idle": "2022-04-12T07:59:21.312837Z",
     "shell.execute_reply": "2022-04-12T07:59:21.311910Z"
    }
   },
   "outputs": [
    {
     "data": {
      "text/html": [
       "<table border=\"1\" class=\"dataframe\">\n",
       "    <thead>\n",
       "        <tr>\n",
       "            <th>duration</th> <th>wait</th>\n",
       "        </tr>\n",
       "    </thead>\n",
       "    <tbody>\n",
       "        <tr>\n",
       "            <td>3.6     </td> <td>79  </td>\n",
       "        </tr>\n",
       "        <tr>\n",
       "            <td>1.8     </td> <td>54  </td>\n",
       "        </tr>\n",
       "        <tr>\n",
       "            <td>3.333   </td> <td>74  </td>\n",
       "        </tr>\n",
       "        <tr>\n",
       "            <td>2.283   </td> <td>62  </td>\n",
       "        </tr>\n",
       "        <tr>\n",
       "            <td>4.533   </td> <td>85  </td>\n",
       "        </tr>\n",
       "        <tr>\n",
       "            <td>2.883   </td> <td>55  </td>\n",
       "        </tr>\n",
       "        <tr>\n",
       "            <td>4.7     </td> <td>88  </td>\n",
       "        </tr>\n",
       "        <tr>\n",
       "            <td>3.6     </td> <td>85  </td>\n",
       "        </tr>\n",
       "        <tr>\n",
       "            <td>1.95    </td> <td>51  </td>\n",
       "        </tr>\n",
       "        <tr>\n",
       "            <td>4.35    </td> <td>85  </td>\n",
       "        </tr>\n",
       "    </tbody>\n",
       "</table>\n",
       "<p>... (262 rows omitted)</p>"
      ],
      "text/plain": [
       "duration | wait\n",
       "3.6      | 79\n",
       "1.8      | 54\n",
       "3.333    | 74\n",
       "2.283    | 62\n",
       "4.533    | 85\n",
       "2.883    | 55\n",
       "4.7      | 88\n",
       "3.6      | 85\n",
       "1.95     | 51\n",
       "4.35     | 85\n",
       "... (262 rows omitted)"
      ]
     },
     "execution_count": 3,
     "metadata": {},
     "output_type": "execute_result"
    }
   ],
   "source": [
    "faithful = Table.read_table(\"faithful.csv\")\n",
    "faithful"
   ]
  },
  {
   "cell_type": "raw",
   "id": "d312d94a",
   "metadata": {},
   "source": [
    "# BEGIN QUESTION\n",
    "name: q1_0"
   ]
  },
  {
   "cell_type": "markdown",
   "id": "bc0b59a4",
   "metadata": {},
   "source": [
    "**Question 1.0.** The following statements are the unordered steps of linear regression.  \n",
    "\n",
    "1. Compute the parameters of the regression line: the slope and the intercept. \n",
    "2. Evaluate the regression line by computing the line’s RMSE and analyzing the residuals plot. \n",
    "3. Use the regression line to generate predictions for each x value. \n",
    "4. Determine if linear regression is a reasonable method by visualizing your data and computing the correlation coefficient. \n",
    "\n",
    "Make an array called `least_squares_order` that contains the correct order of a linear regression analysis, where the first item of the array is the first step of an linear regression analysis and the last item of the array is the last step of an linear regression analysis.\n"
   ]
  },
  {
   "cell_type": "raw",
   "id": "6ea4b05f",
   "metadata": {},
   "source": [
    "# BEGIN SOLUTION"
   ]
  },
  {
   "cell_type": "code",
   "execution_count": 4,
   "id": "9f0a84ee",
   "metadata": {
    "execution": {
     "iopub.execute_input": "2022-04-12T07:59:21.317576Z",
     "iopub.status.busy": "2022-04-12T07:59:21.317227Z",
     "iopub.status.idle": "2022-04-12T07:59:21.323370Z",
     "shell.execute_reply": "2022-04-12T07:59:21.322045Z"
    }
   },
   "outputs": [],
   "source": [
    "least_squares_order = make_array(4, 1, 3, 2) # SOLUTION"
   ]
  },
  {
   "cell_type": "raw",
   "id": "0c6d2cfc",
   "metadata": {},
   "source": [
    "# END SOLUTION"
   ]
  },
  {
   "cell_type": "raw",
   "id": "47ecd25d",
   "metadata": {},
   "source": [
    "# BEGIN TESTS"
   ]
  },
  {
   "cell_type": "code",
   "execution_count": 5,
   "id": "39756279",
   "metadata": {
    "execution": {
     "iopub.execute_input": "2022-04-12T07:59:21.328303Z",
     "iopub.status.busy": "2022-04-12T07:59:21.327992Z",
     "iopub.status.idle": "2022-04-12T07:59:21.336011Z",
     "shell.execute_reply": "2022-04-12T07:59:21.334988Z"
    }
   },
   "outputs": [
    {
     "data": {
      "text/plain": [
       "True"
      ]
     },
     "execution_count": 5,
     "metadata": {},
     "output_type": "execute_result"
    }
   ],
   "source": [
    "len(least_squares_order) == 4"
   ]
  },
  {
   "cell_type": "code",
   "execution_count": 6,
   "id": "bb0a290e",
   "metadata": {
    "execution": {
     "iopub.execute_input": "2022-04-12T07:59:21.340028Z",
     "iopub.status.busy": "2022-04-12T07:59:21.339712Z",
     "iopub.status.idle": "2022-04-12T07:59:21.348117Z",
     "shell.execute_reply": "2022-04-12T07:59:21.346944Z"
    }
   },
   "outputs": [
    {
     "data": {
      "text/plain": [
       "'cd29f2d730e11535cef30ecc78640daa'"
      ]
     },
     "execution_count": 6,
     "metadata": {},
     "output_type": "execute_result"
    }
   ],
   "source": [
    "\n",
    "import hashlib # This imports a hashing library for the autograder.\n",
    "def get_hash(num):\n",
    "    \"\"\"Helper function for assessing correctness.\"\"\"\n",
    "    return hashlib.md5(str(num).encode()).hexdigest()\n",
    "\n",
    "get_hash(np.array(least_squares_order).astype(int)) # Your ordering is incorrect."
   ]
  },
  {
   "cell_type": "raw",
   "id": "9910d55c",
   "metadata": {},
   "source": [
    "# END TESTS"
   ]
  },
  {
   "cell_type": "raw",
   "id": "2e53e987",
   "metadata": {},
   "source": [
    "# END QUESTION"
   ]
  },
  {
   "cell_type": "markdown",
   "id": "e0b5dd68",
   "metadata": {},
   "source": [
    "We would like to use linear regression to make predictions, but that won't work well if the data aren't roughly linearly related.  To check that, we should look at the data."
   ]
  },
  {
   "cell_type": "raw",
   "id": "c6e836de",
   "metadata": {},
   "source": [
    "# BEGIN QUESTION\n",
    "name: q1_1"
   ]
  },
  {
   "cell_type": "markdown",
   "id": "bf44d501",
   "metadata": {},
   "source": [
    "**Question 1.1.** Make a scatter plot of the data.  It's conventional to put the column we want to predict on the vertical axis and the other column on the horizontal axis.\n"
   ]
  },
  {
   "cell_type": "raw",
   "id": "3828f24e",
   "metadata": {},
   "source": [
    "# BEGIN SOLUTION"
   ]
  },
  {
   "cell_type": "code",
   "execution_count": 7,
   "id": "f64aa27f",
   "metadata": {
    "execution": {
     "iopub.execute_input": "2022-04-12T07:59:21.352498Z",
     "iopub.status.busy": "2022-04-12T07:59:21.352231Z",
     "iopub.status.idle": "2022-04-12T07:59:21.637188Z",
     "shell.execute_reply": "2022-04-12T07:59:21.630562Z"
    }
   },
   "outputs": [
    {
     "data": {
      "image/png": "[encoded data removed]",
      "text/plain": [
       "<Figure size 360x360 with 1 Axes>"
      ]
     },
     "metadata": {},
     "output_type": "display_data"
    }
   ],
   "source": [
    "faithful.scatter(\"duration\") #SOLUTION"
   ]
  },
  {
   "cell_type": "raw",
   "id": "72ead62b",
   "metadata": {},
   "source": [
    "# END SOLUTION"
   ]
  },
  {
   "cell_type": "raw",
   "id": "44821e88",
   "metadata": {},
   "source": [
    "# END QUESTION"
   ]
  },
  {
   "cell_type": "raw",
   "id": "72e55cf7",
   "metadata": {},
   "source": [
    "# BEGIN QUESTION\n",
    "name: q1_2"
   ]
  },
  {
   "cell_type": "markdown",
   "id": "927c768d",
   "metadata": {},
   "source": [
    "**Question 1.2.** Are eruption duration and waiting time roughly linearly related based on the scatter plot above? Is this relationship positive?\n"
   ]
  },
  {
   "cell_type": "raw",
   "id": "f54d201d",
   "metadata": {},
   "source": [
    "# BEGIN SOLUTION"
   ]
  },
  {
   "cell_type": "markdown",
   "id": "042efc1c",
   "metadata": {},
   "source": [
    "**SOLUTION:** Yes, they are roughly linearly related.  The eruption durations seem to cluster; there are a bunch of short eruptions and a bunch of longer ones.  But the data in both clusters fall roughly on a line, and that's what's important when it comes to predicting waiting times with linear regression.  The relationship is positive, meaning that longer eruptions have longer waiting times, as we claimed."
   ]
  },
  {
   "cell_type": "raw",
   "id": "dd3a051c",
   "metadata": {},
   "source": [
    "# END SOLUTION"
   ]
  },
  {
   "cell_type": "raw",
   "id": "6fbc6780",
   "metadata": {},
   "source": [
    "# END QUESTION"
   ]
  },
  {
   "cell_type": "markdown",
   "id": "b9ee07f8",
   "metadata": {},
   "source": [
    "We're going to continue with the assumption that they are linearly related, so it's reasonable to use linear regression to analyze this data.\n",
    "\n",
    "We'd next like to plot the data in standard units. If you don't remember the definition of standard units, textbook section [14.2](https://www.inferentialthinking.com/chapters/14/2/Variability.html#standard-units) might help!"
   ]
  },
  {
   "cell_type": "raw",
   "id": "9889234c",
   "metadata": {},
   "source": [
    "# BEGIN QUESTION\n",
    "name: q1_3"
   ]
  },
  {
   "cell_type": "markdown",
   "id": "a3c66dd1",
   "metadata": {},
   "source": [
    "**Question 1.3.** Compute the mean and standard deviation of the eruption durations and waiting times.  **Then** create a table called `faithful_standard` containing the eruption durations and waiting times in standard units.  The columns should be named `duration (standard units)` and `wait (standard units)`.\n"
   ]
  },
  {
   "cell_type": "raw",
   "id": "33d708f1",
   "metadata": {},
   "source": [
    "# BEGIN SOLUTION"
   ]
  },
  {
   "cell_type": "code",
   "execution_count": 8,
   "id": "6aa9bdf3",
   "metadata": {
    "execution": {
     "iopub.execute_input": "2022-04-12T07:59:21.641867Z",
     "iopub.status.busy": "2022-04-12T07:59:21.641535Z",
     "iopub.status.idle": "2022-04-12T07:59:21.649032Z",
     "shell.execute_reply": "2022-04-12T07:59:21.648105Z"
    },
    "for_assignment_type": "solution"
   },
   "outputs": [],
   "source": [
    "# BEGIN SOLUTION NO PROMPT\n",
    "duration_mean = np.mean(faithful.column(\"duration\"))\n",
    "duration_std = np.std(faithful.column(\"duration\"))\n",
    "wait_mean = np.mean(faithful.column(\"wait\"))\n",
    "wait_std = np.std(faithful.column(\"wait\"))\n",
    "\n",
    "faithful_standard = Table().with_columns(\n",
    "    \"duration (standard units)\", (faithful.column(\"duration\") - duration_mean) / duration_std,\n",
    "    \"wait (standard units)\", (faithful.column(\"wait\") - wait_mean) / wait_std)\n",
    "faithful_standard\n",
    "# END SOLUTION\n",
    "\"\"\" # BEGIN PROMPT\n",
    "duration_mean = ...\n",
    "duration_std = ...\n",
    "wait_mean = ...\n",
    "wait_std = ...\n",
    "\n",
    "faithful_standard = Table().with_columns(\n",
    "    \"duration (standard units)\", ...,\n",
    "    \"wait (standard units)\", ...)\n",
    "faithful_standard\n",
    "\"\"\"; # END PROMPT"
   ]
  },
  {
   "cell_type": "raw",
   "id": "2a4b494f",
   "metadata": {},
   "source": [
    "# END SOLUTION"
   ]
  },
  {
   "cell_type": "raw",
   "id": "60341f22",
   "metadata": {},
   "source": [
    "# BEGIN TESTS"
   ]
  },
  {
   "cell_type": "code",
   "execution_count": 9,
   "id": "7e3af3b5",
   "metadata": {
    "execution": {
     "iopub.execute_input": "2022-04-12T07:59:21.652926Z",
     "iopub.status.busy": "2022-04-12T07:59:21.652304Z",
     "iopub.status.idle": "2022-04-12T07:59:21.657820Z",
     "shell.execute_reply": "2022-04-12T07:59:21.656884Z"
    }
   },
   "outputs": [
    {
     "data": {
      "text/plain": [
       "True"
      ]
     },
     "execution_count": 9,
     "metadata": {},
     "output_type": "execute_result"
    }
   ],
   "source": [
    "abs(sum(faithful_standard.column(0))) <= 1e-8"
   ]
  },
  {
   "cell_type": "code",
   "execution_count": 10,
   "id": "b696b7e1",
   "metadata": {
    "execution": {
     "iopub.execute_input": "2022-04-12T07:59:21.661380Z",
     "iopub.status.busy": "2022-04-12T07:59:21.661127Z",
     "iopub.status.idle": "2022-04-12T07:59:21.666710Z",
     "shell.execute_reply": "2022-04-12T07:59:21.665978Z"
    }
   },
   "outputs": [
    {
     "data": {
      "text/plain": [
       "True"
      ]
     },
     "execution_count": 10,
     "metadata": {},
     "output_type": "execute_result"
    }
   ],
   "source": [
    "round(duration_std, 2) == 1.14"
   ]
  },
  {
   "cell_type": "code",
   "execution_count": 11,
   "id": "d04dac45",
   "metadata": {
    "execution": {
     "iopub.execute_input": "2022-04-12T07:59:21.670450Z",
     "iopub.status.busy": "2022-04-12T07:59:21.670160Z",
     "iopub.status.idle": "2022-04-12T07:59:21.675609Z",
     "shell.execute_reply": "2022-04-12T07:59:21.674907Z"
    }
   },
   "outputs": [
    {
     "data": {
      "text/plain": [
       "True"
      ]
     },
     "execution_count": 11,
     "metadata": {},
     "output_type": "execute_result"
    }
   ],
   "source": [
    "round(wait_std, 2) == 13.57 "
   ]
  },
  {
   "cell_type": "raw",
   "id": "49eea74d",
   "metadata": {},
   "source": [
    "# END TESTS"
   ]
  },
  {
   "cell_type": "raw",
   "id": "53c292c4",
   "metadata": {},
   "source": [
    "# END QUESTION"
   ]
  },
  {
   "cell_type": "raw",
   "id": "01d2eb2a",
   "metadata": {},
   "source": [
    "# BEGIN QUESTION\n",
    "name: q1_4"
   ]
  },
  {
   "cell_type": "markdown",
   "id": "4affdcf6",
   "metadata": {},
   "source": [
    "**Question 1.4.** Plot the data again, but this time in standard units.\n"
   ]
  },
  {
   "cell_type": "raw",
   "id": "3ede9ebd",
   "metadata": {},
   "source": [
    "# BEGIN SOLUTION"
   ]
  },
  {
   "cell_type": "code",
   "execution_count": 12,
   "id": "ecc35967",
   "metadata": {
    "execution": {
     "iopub.execute_input": "2022-04-12T07:59:21.679591Z",
     "iopub.status.busy": "2022-04-12T07:59:21.678786Z",
     "iopub.status.idle": "2022-04-12T07:59:21.969322Z",
     "shell.execute_reply": "2022-04-12T07:59:21.968287Z"
    }
   },
   "outputs": [
    {
     "data": {
      "image/png": "[encoded data removed]",
      "text/plain": [
       "<Figure size 360x360 with 1 Axes>"
      ]
     },
     "metadata": {},
     "output_type": "display_data"
    }
   ],
   "source": [
    "faithful_standard.scatter(0) #SOLUTION"
   ]
  },
  {
   "cell_type": "raw",
   "id": "0312f77c",
   "metadata": {},
   "source": [
    "# END SOLUTION"
   ]
  },
  {
   "cell_type": "raw",
   "id": "dfbe47ba",
   "metadata": {},
   "source": [
    "# END QUESTION"
   ]
  },
  {
   "cell_type": "markdown",
   "id": "144a4110",
   "metadata": {},
   "source": [
    "You'll notice that this plot looks the same as the last one!  However, the data and axes are scaled differently.  So it's important to read the ticks on the axes."
   ]
  },
  {
   "cell_type": "raw",
   "id": "e52737e6",
   "metadata": {},
   "source": [
    "# BEGIN QUESTION\n",
    "name: q1_5"
   ]
  },
  {
   "cell_type": "markdown",
   "id": "73395d91",
   "metadata": {},
   "source": [
    "**Question 1.5.** Among the following numbers, which would you guess is closest to the correlation between eruption duration and waiting time in this dataset?\n",
    "\n",
    "1. -1\n",
    "2. 0\n",
    "3. 1\n",
    "\n",
    "Assign `correlation` to the number corresponding to your guess (either 1, 2 or 3).\n"
   ]
  },
  {
   "cell_type": "raw",
   "id": "2a732a44",
   "metadata": {},
   "source": [
    "# BEGIN SOLUTION"
   ]
  },
  {
   "cell_type": "code",
   "execution_count": 13,
   "id": "053e7229",
   "metadata": {
    "execution": {
     "iopub.execute_input": "2022-04-12T07:59:21.973280Z",
     "iopub.status.busy": "2022-04-12T07:59:21.973024Z",
     "iopub.status.idle": "2022-04-12T07:59:21.977101Z",
     "shell.execute_reply": "2022-04-12T07:59:21.976354Z"
    }
   },
   "outputs": [],
   "source": [
    "correlation = 3 # SOLUTION"
   ]
  },
  {
   "cell_type": "raw",
   "id": "6d80dd04",
   "metadata": {},
   "source": [
    "# END SOLUTION"
   ]
  },
  {
   "cell_type": "raw",
   "id": "0f37e72e",
   "metadata": {},
   "source": [
    "# BEGIN TESTS"
   ]
  },
  {
   "cell_type": "code",
   "execution_count": 14,
   "id": "0564344d",
   "metadata": {
    "execution": {
     "iopub.execute_input": "2022-04-12T07:59:21.981924Z",
     "iopub.status.busy": "2022-04-12T07:59:21.981157Z",
     "iopub.status.idle": "2022-04-12T07:59:21.987773Z",
     "shell.execute_reply": "2022-04-12T07:59:21.986822Z"
    }
   },
   "outputs": [
    {
     "data": {
      "text/plain": [
       "'eccbc87e4b5ce2fe28308fd9f2a7baf3'"
      ]
     },
     "execution_count": 14,
     "metadata": {},
     "output_type": "execute_result"
    }
   ],
   "source": [
    "\n",
    "import hashlib # This imports a hashing library for the autograder.\n",
    "def get_hash(num):\n",
    "    \"\"\"Helper function for assessing correctness.\"\"\"\n",
    "    return hashlib.md5(str(num).encode()).hexdigest()\n",
    "\n",
    "get_hash(int(correlation)) # Your choice is incorrect."
   ]
  },
  {
   "cell_type": "raw",
   "id": "dc3d3546",
   "metadata": {},
   "source": [
    "# END TESTS"
   ]
  },
  {
   "cell_type": "raw",
   "id": "7a63260f",
   "metadata": {},
   "source": [
    "# END QUESTION"
   ]
  },
  {
   "cell_type": "raw",
   "id": "d675a279",
   "metadata": {},
   "source": [
    "# BEGIN QUESTION\n",
    "name: q1_6"
   ]
  },
  {
   "cell_type": "markdown",
   "id": "37394148",
   "metadata": {},
   "source": [
    "**Question 1.6.** Compute the correlation coefficient: `r`.  \n",
    "\n",
    "*Hint:* Use `faithful_standard`.  Section [15.1](https://www.inferentialthinking.com/chapters/15/1/Correlation.html#calculating-r) explains how to do this.\n",
    "\n"
   ]
  },
  {
   "cell_type": "raw",
   "id": "e493a278",
   "metadata": {},
   "source": [
    "# BEGIN SOLUTION"
   ]
  },
  {
   "cell_type": "code",
   "execution_count": 15,
   "id": "fb648054",
   "metadata": {
    "execution": {
     "iopub.execute_input": "2022-04-12T07:59:21.991470Z",
     "iopub.status.busy": "2022-04-12T07:59:21.991203Z",
     "iopub.status.idle": "2022-04-12T07:59:21.997189Z",
     "shell.execute_reply": "2022-04-12T07:59:21.996510Z"
    }
   },
   "outputs": [
    {
     "data": {
      "text/plain": [
       "0.9008111683218132"
      ]
     },
     "execution_count": 15,
     "metadata": {},
     "output_type": "execute_result"
    }
   ],
   "source": [
    "r = np.mean(faithful_standard.column(0) * faithful_standard.column(1)) #SOLUTION\n",
    "r"
   ]
  },
  {
   "cell_type": "raw",
   "id": "39947a48",
   "metadata": {},
   "source": [
    "# END SOLUTION"
   ]
  },
  {
   "cell_type": "raw",
   "id": "75b25539",
   "metadata": {},
   "source": [
    "# BEGIN TESTS"
   ]
  },
  {
   "cell_type": "code",
   "execution_count": 16,
   "id": "f52d1867",
   "metadata": {
    "execution": {
     "iopub.execute_input": "2022-04-12T07:59:22.000438Z",
     "iopub.status.busy": "2022-04-12T07:59:22.000192Z",
     "iopub.status.idle": "2022-04-12T07:59:22.005347Z",
     "shell.execute_reply": "2022-04-12T07:59:22.004622Z"
    }
   },
   "outputs": [
    {
     "data": {
      "text/plain": [
       "True"
      ]
     },
     "execution_count": 16,
     "metadata": {},
     "output_type": "execute_result"
    }
   ],
   "source": [
    "-1 <= r <= 1"
   ]
  },
  {
   "cell_type": "code",
   "execution_count": 17,
   "id": "586eb675",
   "metadata": {
    "execution": {
     "iopub.execute_input": "2022-04-12T07:59:22.008767Z",
     "iopub.status.busy": "2022-04-12T07:59:22.008495Z",
     "iopub.status.idle": "2022-04-12T07:59:22.037778Z",
     "shell.execute_reply": "2022-04-12T07:59:22.012952Z"
    }
   },
   "outputs": [
    {
     "data": {
      "text/plain": [
       "True"
      ]
     },
     "execution_count": 17,
     "metadata": {},
     "output_type": "execute_result"
    }
   ],
   "source": [
    "round(r,3) == 0.901"
   ]
  },
  {
   "cell_type": "raw",
   "id": "c85e889f",
   "metadata": {},
   "source": [
    "# END TESTS"
   ]
  },
  {
   "cell_type": "raw",
   "id": "1691b652",
   "metadata": {},
   "source": [
    "# END QUESTION"
   ]
  },
  {
   "cell_type": "markdown",
   "id": "5a9a3e53",
   "metadata": {},
   "source": [
    "## 2. The regression line\n",
    "Recall that the **correlation** is the **slope of the regression line when the data are put in standard units**.\n",
    "\n",
    "The next cell plots the regression line in standard units:\n",
    "\n",
    "$$\\text{waiting time in standard units} = r \\times \\text{eruption duration in standard units}$$\n",
    "\n",
    "Then, it plots the data in standard units again, for comparison."
   ]
  },
  {
   "cell_type": "code",
   "execution_count": 18,
   "id": "76eab0c3",
   "metadata": {
    "execution": {
     "iopub.execute_input": "2022-04-12T07:59:22.042284Z",
     "iopub.status.busy": "2022-04-12T07:59:22.041703Z",
     "iopub.status.idle": "2022-04-12T07:59:22.404891Z",
     "shell.execute_reply": "2022-04-12T07:59:22.403871Z"
    }
   },
   "outputs": [
    {
     "data": {
      "image/png": "[encoded data removed]",
      "text/plain": [
       "<Figure size 360x360 with 1 Axes>"
      ]
     },
     "metadata": {},
     "output_type": "display_data"
    }
   ],
   "source": [
    "# Here is where the original Lab 09 defined the plotting function. \n",
    "# We do not need to redefine here, so have commented it out\n",
    "# ----------------------------------------------------------------\n",
    "#def plot_data_and_line(dataset, x, y, point_0, point_1):\n",
    "#    \"\"\"Makes a scatter plot of the dataset, along with a line passing through two points.\"\"\"\n",
    "#    dataset.scatter(x, y, label=\"data\")\n",
    "#    xs, ys = zip(point_0, point_1)\n",
    "#    plots.plot(xs, ys, label=\"regression line\")\n",
    "#    plots.legend(bbox_to_anchor=(1.5,.8))\n",
    "\n",
    "plot_data_and_line(faithful_standard, \n",
    "                   \"duration (standard units)\", \n",
    "                   \"wait (standard units)\", \n",
    "                   [-2, -2*r], \n",
    "                   [2, 2*r])"
   ]
  },
  {
   "cell_type": "raw",
   "id": "25b1ef64",
   "metadata": {},
   "source": [
    "# BEGIN QUESTION\n",
    "name: q2_1"
   ]
  },
  {
   "cell_type": "markdown",
   "id": "627d2d0b",
   "metadata": {},
   "source": [
    "How would you take a point in standard units and convert it back to original units?  We'd have to \"stretch\" its horizontal position by `duration_std` and its vertical position by `wait_std`. That means the same thing would happen to the slope of the line.\n",
    "\n",
    "Stretching a line horizontally makes it less steep, so we divide the slope by the stretching factor.  Stretching a line vertically makes it more steep, so we multiply the slope by the stretching factor.\n",
    "\n",
    "**Question 2.1.** Calculate the slope of the regression line in original units, and assign it to `slope`.\n",
    "\n",
    "(If the \"stretching\" explanation is unintuitive, consult section [15.2](https://www.inferentialthinking.com/chapters/15/2/Regression_Line.html#the-equation-of-the-regression-line) in the textbook.)\n"
   ]
  },
  {
   "cell_type": "raw",
   "id": "68dcb46d",
   "metadata": {},
   "source": [
    "# BEGIN SOLUTION"
   ]
  },
  {
   "cell_type": "code",
   "execution_count": 19,
   "id": "c64c0f56",
   "metadata": {
    "execution": {
     "iopub.execute_input": "2022-04-12T07:59:22.409194Z",
     "iopub.status.busy": "2022-04-12T07:59:22.408480Z",
     "iopub.status.idle": "2022-04-12T07:59:22.415041Z",
     "shell.execute_reply": "2022-04-12T07:59:22.414029Z"
    }
   },
   "outputs": [
    {
     "data": {
      "text/plain": [
       "10.729641395133527"
      ]
     },
     "execution_count": 19,
     "metadata": {},
     "output_type": "execute_result"
    }
   ],
   "source": [
    "slope = (wait_std/duration_std) * r #SOLUTION\n",
    "slope"
   ]
  },
  {
   "cell_type": "raw",
   "id": "d49a9b8b",
   "metadata": {},
   "source": [
    "# END SOLUTION"
   ]
  },
  {
   "cell_type": "raw",
   "id": "22722000",
   "metadata": {},
   "source": [
    "# BEGIN TESTS"
   ]
  },
  {
   "cell_type": "code",
   "execution_count": 20,
   "id": "9d92dbb3",
   "metadata": {
    "execution": {
     "iopub.execute_input": "2022-04-12T07:59:22.418675Z",
     "iopub.status.busy": "2022-04-12T07:59:22.418389Z",
     "iopub.status.idle": "2022-04-12T07:59:22.437255Z",
     "shell.execute_reply": "2022-04-12T07:59:22.423696Z"
    }
   },
   "outputs": [
    {
     "data": {
      "text/plain": [
       "True"
      ]
     },
     "execution_count": 20,
     "metadata": {},
     "output_type": "execute_result"
    }
   ],
   "source": [
    "(slope*13 - 100)/98 <= 0.5"
   ]
  },
  {
   "cell_type": "code",
   "execution_count": 21,
   "id": "bc0edc7f",
   "metadata": {
    "execution": {
     "iopub.execute_input": "2022-04-12T07:59:22.442152Z",
     "iopub.status.busy": "2022-04-12T07:59:22.441345Z",
     "iopub.status.idle": "2022-04-12T07:59:22.447564Z",
     "shell.execute_reply": "2022-04-12T07:59:22.446697Z"
    }
   },
   "outputs": [
    {
     "data": {
      "text/plain": [
       "True"
      ]
     },
     "execution_count": 21,
     "metadata": {},
     "output_type": "execute_result"
    }
   ],
   "source": [
    "np.round(slope, 4) == 10.7296 # Make sure you are plugging in the SD_x and SD_y in the correct spots!"
   ]
  },
  {
   "cell_type": "raw",
   "id": "0de3aa94",
   "metadata": {},
   "source": [
    "# END TESTS"
   ]
  },
  {
   "cell_type": "raw",
   "id": "9ce73fac",
   "metadata": {},
   "source": [
    "# END QUESTION"
   ]
  },
  {
   "cell_type": "raw",
   "id": "8b145927",
   "metadata": {},
   "source": [
    "# BEGIN QUESTION\n",
    "name: q2_2"
   ]
  },
  {
   "cell_type": "markdown",
   "id": "e7d27a7b",
   "metadata": {},
   "source": [
    "We know that the regression line passes through the point `(duration_mean, wait_mean)`. Recall that the equation of the regression line in the original units is:\n",
    "\n",
    "$$\\text{waiting time} = \\text{slope} \\times \\text{eruption duration} + (- \\text{slope} \\times \\text{duration\\_mean + wait\\_mean})$$\n",
    "\n",
    "\n",
    "**Question 2.2.** Calculate the intercept in original units and assign it to `intercept`. [Section 15.2.5](https://inferentialthinking.com/chapters/15/2/Regression_Line.html#the-regression-line-in-standard-units) may be helpful.\n"
   ]
  },
  {
   "cell_type": "raw",
   "id": "8f50ac49",
   "metadata": {},
   "source": [
    "# BEGIN SOLUTION"
   ]
  },
  {
   "cell_type": "code",
   "execution_count": 22,
   "id": "cd539a60",
   "metadata": {
    "execution": {
     "iopub.execute_input": "2022-04-12T07:59:22.451578Z",
     "iopub.status.busy": "2022-04-12T07:59:22.451263Z",
     "iopub.status.idle": "2022-04-12T07:59:22.458029Z",
     "shell.execute_reply": "2022-04-12T07:59:22.457143Z"
    }
   },
   "outputs": [
    {
     "data": {
      "text/plain": [
       "33.47439702275335"
      ]
     },
     "execution_count": 22,
     "metadata": {},
     "output_type": "execute_result"
    }
   ],
   "source": [
    "intercept = slope*(-duration_mean) + wait_mean #SOLUTION\n",
    "intercept"
   ]
  },
  {
   "cell_type": "raw",
   "id": "dbb34222",
   "metadata": {},
   "source": [
    "# END SOLUTION"
   ]
  },
  {
   "cell_type": "raw",
   "id": "8eb8b154",
   "metadata": {},
   "source": [
    "# BEGIN TESTS"
   ]
  },
  {
   "cell_type": "code",
   "execution_count": 23,
   "id": "9fb1c1dc",
   "metadata": {
    "execution": {
     "iopub.execute_input": "2022-04-12T07:59:22.461550Z",
     "iopub.status.busy": "2022-04-12T07:59:22.461276Z",
     "iopub.status.idle": "2022-04-12T07:59:22.467138Z",
     "shell.execute_reply": "2022-04-12T07:59:22.466333Z"
    }
   },
   "outputs": [
    {
     "data": {
      "text/plain": [
       "True"
      ]
     },
     "execution_count": 23,
     "metadata": {},
     "output_type": "execute_result"
    }
   ],
   "source": [
    "33 < intercept < 34"
   ]
  },
  {
   "cell_type": "code",
   "execution_count": 24,
   "id": "4b77e367",
   "metadata": {
    "execution": {
     "iopub.execute_input": "2022-04-12T07:59:22.470830Z",
     "iopub.status.busy": "2022-04-12T07:59:22.470350Z",
     "iopub.status.idle": "2022-04-12T07:59:22.477499Z",
     "shell.execute_reply": "2022-04-12T07:59:22.476470Z"
    }
   },
   "outputs": [
    {
     "data": {
      "text/plain": [
       "True"
      ]
     },
     "execution_count": 24,
     "metadata": {},
     "output_type": "execute_result"
    }
   ],
   "source": [
    "np.round(intercept, 3) == 33.474"
   ]
  },
  {
   "cell_type": "raw",
   "id": "2c56c789",
   "metadata": {},
   "source": [
    "# END TESTS"
   ]
  },
  {
   "cell_type": "raw",
   "id": "b2e5f509",
   "metadata": {},
   "source": [
    "# END QUESTION"
   ]
  },
  {
   "cell_type": "raw",
   "id": "9b904b39",
   "metadata": {},
   "source": [
    "# BEGIN QUESTION\n",
    "name: q3_1"
   ]
  },
  {
   "cell_type": "markdown",
   "id": "0828202a",
   "metadata": {},
   "source": [
    "## 3. Investigating the regression line\n",
    "The slope and intercept tell you exactly what the regression line looks like.  To predict the waiting time for an eruption, multiply the eruption's duration by `slope` and then add `intercept`.\n",
    "\n",
    "**Question 3.1.** Compute the predicted waiting time for an eruption that lasts 2 minutes, and for an eruption that lasts 5 minutes.\n"
   ]
  },
  {
   "cell_type": "raw",
   "id": "a354f15d",
   "metadata": {},
   "source": [
    "# BEGIN SOLUTION"
   ]
  },
  {
   "cell_type": "code",
   "execution_count": 25,
   "id": "429089c1",
   "metadata": {
    "execution": {
     "iopub.execute_input": "2022-04-12T07:59:22.482292Z",
     "iopub.status.busy": "2022-04-12T07:59:22.481462Z",
     "iopub.status.idle": "2022-04-12T07:59:22.488986Z",
     "shell.execute_reply": "2022-04-12T07:59:22.488117Z"
    }
   },
   "outputs": [
    {
     "name": "stdout",
     "output_type": "stream",
     "text": [
      "After an eruption lasting 2 minutes, we predict you'll wait 54.933679813020404 minutes until the next eruption.\n",
      "After an eruption lasting 5 minutes, we predict you'll wait 87.12260399842098 minutes until the next eruption.\n"
     ]
    }
   ],
   "source": [
    "two_minute_predicted_waiting_time = slope*2 + intercept #SOLUTION\n",
    "five_minute_predicted_waiting_time = slope*5 + intercept #SOLUTION\n",
    "\n",
    "# Here is a helper function to print out your predictions.\n",
    "# Don't modify the code below.\n",
    "def print_prediction(duration, predicted_waiting_time):\n",
    "    print(\"After an eruption lasting\", duration,\n",
    "          \"minutes, we predict you'll wait\", predicted_waiting_time,\n",
    "          \"minutes until the next eruption.\")\n",
    "\n",
    "print_prediction(2, two_minute_predicted_waiting_time)\n",
    "print_prediction(5, five_minute_predicted_waiting_time)"
   ]
  },
  {
   "cell_type": "raw",
   "id": "b426c8c7",
   "metadata": {},
   "source": [
    "# END SOLUTION"
   ]
  },
  {
   "cell_type": "raw",
   "id": "ab8a2a27",
   "metadata": {},
   "source": [
    "# BEGIN TESTS"
   ]
  },
  {
   "cell_type": "code",
   "execution_count": 26,
   "id": "20276d1c",
   "metadata": {
    "execution": {
     "iopub.execute_input": "2022-04-12T07:59:22.492605Z",
     "iopub.status.busy": "2022-04-12T07:59:22.492341Z",
     "iopub.status.idle": "2022-04-12T07:59:22.497908Z",
     "shell.execute_reply": "2022-04-12T07:59:22.497091Z"
    }
   },
   "outputs": [
    {
     "data": {
      "text/plain": [
       "True"
      ]
     },
     "execution_count": 26,
     "metadata": {},
     "output_type": "execute_result"
    }
   ],
   "source": [
    "round(two_minute_predicted_waiting_time, 3) == 54.934"
   ]
  },
  {
   "cell_type": "code",
   "execution_count": 27,
   "id": "2b51e5a2",
   "metadata": {
    "execution": {
     "iopub.execute_input": "2022-04-12T07:59:22.502246Z",
     "iopub.status.busy": "2022-04-12T07:59:22.501495Z",
     "iopub.status.idle": "2022-04-12T07:59:22.540026Z",
     "shell.execute_reply": "2022-04-12T07:59:22.539119Z"
    }
   },
   "outputs": [
    {
     "data": {
      "text/plain": [
       "True"
      ]
     },
     "execution_count": 27,
     "metadata": {},
     "output_type": "execute_result"
    }
   ],
   "source": [
    "round(five_minute_predicted_waiting_time, 3) == 87.123"
   ]
  },
  {
   "cell_type": "raw",
   "id": "160c1c71",
   "metadata": {},
   "source": [
    "# END TESTS"
   ]
  },
  {
   "cell_type": "raw",
   "id": "c845729b",
   "metadata": {},
   "source": [
    "# END QUESTION"
   ]
  },
  {
   "cell_type": "markdown",
   "id": "bc42f86e",
   "metadata": {},
   "source": [
    "The next cell plots the line that goes between those two points, which is (a segment of) the regression line."
   ]
  },
  {
   "cell_type": "code",
   "execution_count": 28,
   "id": "d475b57b",
   "metadata": {
    "execution": {
     "iopub.execute_input": "2022-04-12T07:59:22.544244Z",
     "iopub.status.busy": "2022-04-12T07:59:22.543425Z",
     "iopub.status.idle": "2022-04-12T07:59:22.858447Z",
     "shell.execute_reply": "2022-04-12T07:59:22.857355Z"
    },
    "scrolled": true
   },
   "outputs": [
    {
     "data": {
      "image/png": "[encoded data removed]",
      "text/plain": [
       "<Figure size 360x360 with 1 Axes>"
      ]
     },
     "metadata": {},
     "output_type": "display_data"
    }
   ],
   "source": [
    "plot_data_and_line(faithful, \"duration\", \"wait\", \n",
    "                   [2, two_minute_predicted_waiting_time], \n",
    "                   [5, five_minute_predicted_waiting_time])"
   ]
  },
  {
   "cell_type": "raw",
   "id": "67c27b13",
   "metadata": {},
   "source": [
    "# BEGIN QUESTION\n",
    "name: q3_2"
   ]
  },
  {
   "cell_type": "markdown",
   "id": "0693af5e",
   "metadata": {},
   "source": [
    "**Question 3.2.** Make predictions for the waiting time after each eruption in the `faithful` table.  (Of course, we know exactly what the waiting times were!  We are doing this so we can see how accurate our predictions are.)  Put these numbers into a column in a new table called `faithful_predictions`.  Its first row should look like this:\n",
    "\n",
    "|duration|wait|predicted wait|\n",
    "|-|-|-|\n",
    "|3.6|79|72.1011|\n",
    "\n",
    "*Hint:* Your answer can be just one line, though you are not limited to one line.  There is no need for a `for` loop; use array arithmetic instead.\n"
   ]
  },
  {
   "cell_type": "raw",
   "id": "84b06ff7",
   "metadata": {},
   "source": [
    "# BEGIN SOLUTION"
   ]
  },
  {
   "cell_type": "code",
   "execution_count": 29,
   "id": "1cfbbe6e",
   "metadata": {
    "execution": {
     "iopub.execute_input": "2022-04-12T07:59:22.863584Z",
     "iopub.status.busy": "2022-04-12T07:59:22.862468Z",
     "iopub.status.idle": "2022-04-12T07:59:22.870702Z",
     "shell.execute_reply": "2022-04-12T07:59:22.869835Z"
    }
   },
   "outputs": [
    {
     "data": {
      "text/html": [
       "<table border=\"1\" class=\"dataframe\">\n",
       "    <thead>\n",
       "        <tr>\n",
       "            <th>duration</th> <th>wait</th> <th>predicted wait</th>\n",
       "        </tr>\n",
       "    </thead>\n",
       "    <tbody>\n",
       "        <tr>\n",
       "            <td>3.6     </td> <td>79  </td> <td>72.1011       </td>\n",
       "        </tr>\n",
       "        <tr>\n",
       "            <td>1.8     </td> <td>54  </td> <td>52.7878       </td>\n",
       "        </tr>\n",
       "        <tr>\n",
       "            <td>3.333   </td> <td>74  </td> <td>69.2363       </td>\n",
       "        </tr>\n",
       "        <tr>\n",
       "            <td>2.283   </td> <td>62  </td> <td>57.9702       </td>\n",
       "        </tr>\n",
       "        <tr>\n",
       "            <td>4.533   </td> <td>85  </td> <td>82.1119       </td>\n",
       "        </tr>\n",
       "        <tr>\n",
       "            <td>2.883   </td> <td>55  </td> <td>64.408        </td>\n",
       "        </tr>\n",
       "        <tr>\n",
       "            <td>4.7     </td> <td>88  </td> <td>83.9037       </td>\n",
       "        </tr>\n",
       "        <tr>\n",
       "            <td>3.6     </td> <td>85  </td> <td>72.1011       </td>\n",
       "        </tr>\n",
       "        <tr>\n",
       "            <td>1.95    </td> <td>51  </td> <td>54.3972       </td>\n",
       "        </tr>\n",
       "        <tr>\n",
       "            <td>4.35    </td> <td>85  </td> <td>80.1483       </td>\n",
       "        </tr>\n",
       "    </tbody>\n",
       "</table>\n",
       "<p>... (262 rows omitted)</p>"
      ],
      "text/plain": [
       "duration | wait | predicted wait\n",
       "3.6      | 79   | 72.1011\n",
       "1.8      | 54   | 52.7878\n",
       "3.333    | 74   | 69.2363\n",
       "2.283    | 62   | 57.9702\n",
       "4.533    | 85   | 82.1119\n",
       "2.883    | 55   | 64.408\n",
       "4.7      | 88   | 83.9037\n",
       "3.6      | 85   | 72.1011\n",
       "1.95     | 51   | 54.3972\n",
       "4.35     | 85   | 80.1483\n",
       "... (262 rows omitted)"
      ]
     },
     "execution_count": 29,
     "metadata": {},
     "output_type": "execute_result"
    }
   ],
   "source": [
    "faithful_predictions = faithful.with_column(\"predicted wait\", slope*faithful.column(\"duration\") + intercept) #SOLUTION\n",
    "faithful_predictions"
   ]
  },
  {
   "cell_type": "raw",
   "id": "54c10488",
   "metadata": {},
   "source": [
    "# END SOLUTION"
   ]
  },
  {
   "cell_type": "raw",
   "id": "0bd89463",
   "metadata": {},
   "source": [
    "# BEGIN TESTS"
   ]
  },
  {
   "cell_type": "code",
   "execution_count": 30,
   "id": "81dcff15",
   "metadata": {
    "execution": {
     "iopub.execute_input": "2022-04-12T07:59:22.875468Z",
     "iopub.status.busy": "2022-04-12T07:59:22.874869Z",
     "iopub.status.idle": "2022-04-12T07:59:22.883381Z",
     "shell.execute_reply": "2022-04-12T07:59:22.882267Z"
    }
   },
   "outputs": [
    {
     "data": {
      "text/plain": [
       "True"
      ]
     },
     "execution_count": 30,
     "metadata": {},
     "output_type": "execute_result"
    }
   ],
   "source": [
    "set(faithful_predictions.labels) == set(['duration', 'wait', 'predicted wait']) # Make sure your column labels are correct."
   ]
  },
  {
   "cell_type": "code",
   "execution_count": 31,
   "id": "34efe5b7",
   "metadata": {
    "execution": {
     "iopub.execute_input": "2022-04-12T07:59:22.887179Z",
     "iopub.status.busy": "2022-04-12T07:59:22.886884Z",
     "iopub.status.idle": "2022-04-12T07:59:22.893553Z",
     "shell.execute_reply": "2022-04-12T07:59:22.892709Z"
    }
   },
   "outputs": [
    {
     "data": {
      "text/plain": [
       "True"
      ]
     },
     "execution_count": 31,
     "metadata": {},
     "output_type": "execute_result"
    }
   ],
   "source": [
    "abs(1 - np.mean(faithful_predictions.column(2))/100) <= 0.35"
   ]
  },
  {
   "cell_type": "raw",
   "id": "fd66b1c1",
   "metadata": {},
   "source": [
    "# END TESTS"
   ]
  },
  {
   "cell_type": "raw",
   "id": "0d6ba482",
   "metadata": {},
   "source": [
    "# END QUESTION"
   ]
  },
  {
   "cell_type": "raw",
   "id": "f2750993",
   "metadata": {},
   "source": [
    "# BEGIN QUESTION\n",
    "name: q3_3"
   ]
  },
  {
   "cell_type": "markdown",
   "id": "6a6caf6e",
   "metadata": {},
   "source": [
    "**Question 3.3.** How close were we?  Compute the *residual* for each eruption in the dataset.  The residual is the actual waiting time minus the predicted waiting time.  Add the residuals to `faithful_predictions` as a new column called `residual` and name the resulting table `faithful_residuals`.\n",
    "\n",
    "*Hint:* Again, your code will be much simpler if you don't use a `for` loop.\n"
   ]
  },
  {
   "cell_type": "raw",
   "id": "73488b3d",
   "metadata": {},
   "source": [
    "# BEGIN SOLUTION"
   ]
  },
  {
   "cell_type": "code",
   "execution_count": 32,
   "id": "8b2ef517",
   "metadata": {
    "execution": {
     "iopub.execute_input": "2022-04-12T07:59:22.897028Z",
     "iopub.status.busy": "2022-04-12T07:59:22.896776Z",
     "iopub.status.idle": "2022-04-12T07:59:22.904394Z",
     "shell.execute_reply": "2022-04-12T07:59:22.903516Z"
    }
   },
   "outputs": [
    {
     "data": {
      "text/html": [
       "<table border=\"1\" class=\"dataframe\">\n",
       "    <thead>\n",
       "        <tr>\n",
       "            <th>duration</th> <th>wait</th> <th>predicted wait</th> <th>residual</th>\n",
       "        </tr>\n",
       "    </thead>\n",
       "    <tbody>\n",
       "        <tr>\n",
       "            <td>3.6     </td> <td>79  </td> <td>72.1011       </td> <td>6.89889 </td>\n",
       "        </tr>\n",
       "        <tr>\n",
       "            <td>1.8     </td> <td>54  </td> <td>52.7878       </td> <td>1.21225 </td>\n",
       "        </tr>\n",
       "        <tr>\n",
       "            <td>3.333   </td> <td>74  </td> <td>69.2363       </td> <td>4.76371 </td>\n",
       "        </tr>\n",
       "        <tr>\n",
       "            <td>2.283   </td> <td>62  </td> <td>57.9702       </td> <td>4.02983 </td>\n",
       "        </tr>\n",
       "        <tr>\n",
       "            <td>4.533   </td> <td>85  </td> <td>82.1119       </td> <td>2.88814 </td>\n",
       "        </tr>\n",
       "        <tr>\n",
       "            <td>2.883   </td> <td>55  </td> <td>64.408        </td> <td>-9.40795</td>\n",
       "        </tr>\n",
       "        <tr>\n",
       "            <td>4.7     </td> <td>88  </td> <td>83.9037       </td> <td>4.09629 </td>\n",
       "        </tr>\n",
       "        <tr>\n",
       "            <td>3.6     </td> <td>85  </td> <td>72.1011       </td> <td>12.8989 </td>\n",
       "        </tr>\n",
       "        <tr>\n",
       "            <td>1.95    </td> <td>51  </td> <td>54.3972       </td> <td>-3.3972 </td>\n",
       "        </tr>\n",
       "        <tr>\n",
       "            <td>4.35    </td> <td>85  </td> <td>80.1483       </td> <td>4.85166 </td>\n",
       "        </tr>\n",
       "    </tbody>\n",
       "</table>\n",
       "<p>... (262 rows omitted)</p>"
      ],
      "text/plain": [
       "duration | wait | predicted wait | residual\n",
       "3.6      | 79   | 72.1011        | 6.89889\n",
       "1.8      | 54   | 52.7878        | 1.21225\n",
       "3.333    | 74   | 69.2363        | 4.76371\n",
       "2.283    | 62   | 57.9702        | 4.02983\n",
       "4.533    | 85   | 82.1119        | 2.88814\n",
       "2.883    | 55   | 64.408         | -9.40795\n",
       "4.7      | 88   | 83.9037        | 4.09629\n",
       "3.6      | 85   | 72.1011        | 12.8989\n",
       "1.95     | 51   | 54.3972        | -3.3972\n",
       "4.35     | 85   | 80.1483        | 4.85166\n",
       "... (262 rows omitted)"
      ]
     },
     "execution_count": 32,
     "metadata": {},
     "output_type": "execute_result"
    }
   ],
   "source": [
    "faithful_residuals = faithful_predictions.with_column(\"residual\", faithful_predictions.column(1) - faithful_predictions.column(2)) #SOLUTION\n",
    "faithful_residuals"
   ]
  },
  {
   "cell_type": "raw",
   "id": "b6ca1c65",
   "metadata": {},
   "source": [
    "# END SOLUTION"
   ]
  },
  {
   "cell_type": "raw",
   "id": "c3521be3",
   "metadata": {},
   "source": [
    "# BEGIN TESTS"
   ]
  },
  {
   "cell_type": "code",
   "execution_count": 33,
   "id": "b5ba63d0",
   "metadata": {
    "execution": {
     "iopub.execute_input": "2022-04-12T07:59:22.907735Z",
     "iopub.status.busy": "2022-04-12T07:59:22.907427Z",
     "iopub.status.idle": "2022-04-12T07:59:22.942541Z",
     "shell.execute_reply": "2022-04-12T07:59:22.941520Z"
    }
   },
   "outputs": [
    {
     "data": {
      "text/plain": [
       "True"
      ]
     },
     "execution_count": 33,
     "metadata": {},
     "output_type": "execute_result"
    }
   ],
   "source": [
    "set(faithful_residuals.labels) == set(['duration', 'wait', 'predicted wait', 'residual']) # Make sure your column labels are correct."
   ]
  },
  {
   "cell_type": "code",
   "execution_count": 34,
   "id": "dab71b4c",
   "metadata": {
    "execution": {
     "iopub.execute_input": "2022-04-12T07:59:22.946191Z",
     "iopub.status.busy": "2022-04-12T07:59:22.945927Z",
     "iopub.status.idle": "2022-04-12T07:59:22.952904Z",
     "shell.execute_reply": "2022-04-12T07:59:22.952021Z"
    }
   },
   "outputs": [
    {
     "data": {
      "text/plain": [
       "True"
      ]
     },
     "execution_count": 34,
     "metadata": {},
     "output_type": "execute_result"
    }
   ],
   "source": [
    "abs(sum(faithful_residuals.column('residual'))) <= 1e-8"
   ]
  },
  {
   "cell_type": "raw",
   "id": "2070e77f",
   "metadata": {},
   "source": [
    "# END TESTS"
   ]
  },
  {
   "cell_type": "raw",
   "id": "57ea803d",
   "metadata": {},
   "source": [
    "# END QUESTION"
   ]
  },
  {
   "cell_type": "markdown",
   "id": "c6780f50",
   "metadata": {},
   "source": [
    "Here is a plot of the residuals you computed.  Each point corresponds to one eruption.  It shows how much our prediction over- or under-estimated the waiting time."
   ]
  },
  {
   "cell_type": "code",
   "execution_count": 35,
   "id": "bfff1792",
   "metadata": {
    "execution": {
     "iopub.execute_input": "2022-04-12T07:59:22.956472Z",
     "iopub.status.busy": "2022-04-12T07:59:22.956220Z",
     "iopub.status.idle": "2022-04-12T07:59:23.227575Z",
     "shell.execute_reply": "2022-04-12T07:59:23.226434Z"
    }
   },
   "outputs": [
    {
     "data": {
      "image/png": "[encoded data removed]",
      "text/plain": [
       "<Figure size 360x360 with 1 Axes>"
      ]
     },
     "metadata": {},
     "output_type": "display_data"
    }
   ],
   "source": [
    "faithful_residuals.scatter(\"duration\", \"residual\", color=\"r\")"
   ]
  },
  {
   "cell_type": "markdown",
   "id": "725edb77",
   "metadata": {},
   "source": [
    "There isn't really a pattern in the residuals, which confirms that it was reasonable to try linear regression.  It's true that there are two separate clouds; the eruption durations seemed to fall into two distinct clusters.  But that's just a pattern in the eruption durations, not a pattern in the relationship between eruption durations and waiting times."
   ]
  },
  {
   "cell_type": "markdown",
   "id": "2e6790b7",
   "metadata": {},
   "source": [
    "## 4. How accurate are different predictions?\n",
    "Earlier, you should have found that the correlation is fairly close to 1, so the line fits fairly well on the training data.  That means the residuals are overall small (close to 0) in comparison to the waiting times.\n",
    "\n",
    "We can see that visually by plotting the waiting times and residuals together:"
   ]
  },
  {
   "cell_type": "code",
   "execution_count": 36,
   "id": "4cd3554c",
   "metadata": {
    "execution": {
     "iopub.execute_input": "2022-04-12T07:59:23.237229Z",
     "iopub.status.busy": "2022-04-12T07:59:23.231516Z",
     "iopub.status.idle": "2022-04-12T07:59:23.628427Z",
     "shell.execute_reply": "2022-04-12T07:59:23.626680Z"
    }
   },
   "outputs": [
    {
     "data": {
      "image/png": "[encoded data removed]",
      "text/plain": [
       "<Figure size 360x360 with 1 Axes>"
      ]
     },
     "metadata": {},
     "output_type": "display_data"
    }
   ],
   "source": [
    "# Just run this cell.\n",
    "faithful_residuals.scatter(\"duration\", \"wait\", label=\"actual waiting time\", color=\"blue\")\n",
    "plots.scatter(faithful_residuals.column(\"duration\"), faithful_residuals.column(\"residual\"), label=\"residual\", color=\"r\")\n",
    "plots.plot([2, 5], [two_minute_predicted_waiting_time, five_minute_predicted_waiting_time], label=\"regression line\")\n",
    "plots.legend(bbox_to_anchor=(1.7,.8));"
   ]
  },
  {
   "cell_type": "markdown",
   "id": "6e9f11e3",
   "metadata": {},
   "source": [
    "However, unless you have a strong reason to believe that the linear regression model is true, you should be wary of applying your prediction model to data that are very different from the training data."
   ]
  },
  {
   "cell_type": "raw",
   "id": "6f34efe0",
   "metadata": {},
   "source": [
    "# BEGIN QUESTION\n",
    "name: q4_1"
   ]
  },
  {
   "cell_type": "markdown",
   "id": "34dc1a53",
   "metadata": {},
   "source": [
    "**Question 4.1.** In `faithful`, no eruption lasted exactly 0, 2.5, or 60 minutes.  Using this line, what is the predicted waiting time for an eruption that lasts 0 minutes?  2.5 minutes?  An hour?\n"
   ]
  },
  {
   "cell_type": "raw",
   "id": "a8bb176f",
   "metadata": {},
   "source": [
    "# BEGIN SOLUTION"
   ]
  },
  {
   "cell_type": "code",
   "execution_count": 37,
   "id": "79bb94f8",
   "metadata": {
    "execution": {
     "iopub.execute_input": "2022-04-12T07:59:23.638793Z",
     "iopub.status.busy": "2022-04-12T07:59:23.638309Z",
     "iopub.status.idle": "2022-04-12T07:59:23.647977Z",
     "shell.execute_reply": "2022-04-12T07:59:23.646780Z"
    }
   },
   "outputs": [
    {
     "name": "stdout",
     "output_type": "stream",
     "text": [
      "After an eruption lasting 0 minutes, we predict you'll wait 33.47439702275335 minutes until the next eruption.\n",
      "After an eruption lasting 2.5 minutes, we predict you'll wait 60.29850051058717 minutes until the next eruption.\n",
      "After an eruption lasting 60 minutes, we predict you'll wait 677.252880730765 minutes until the next eruption.\n"
     ]
    }
   ],
   "source": [
    "zero_minute_predicted_waiting_time = intercept #SOLUTION\n",
    "two_point_five_minute_predicted_waiting_time = slope * 2.5 + intercept #SOLUTION\n",
    "hour_predicted_waiting_time = slope * 60 + intercept #SOLUTION\n",
    "\n",
    "print_prediction(0, zero_minute_predicted_waiting_time)\n",
    "print_prediction(2.5, two_point_five_minute_predicted_waiting_time)\n",
    "print_prediction(60, hour_predicted_waiting_time)"
   ]
  },
  {
   "cell_type": "raw",
   "id": "21f66f30",
   "metadata": {},
   "source": [
    "# END SOLUTION"
   ]
  },
  {
   "cell_type": "raw",
   "id": "414176cb",
   "metadata": {},
   "source": [
    "# BEGIN TESTS"
   ]
  },
  {
   "cell_type": "code",
   "execution_count": 38,
   "id": "a8fb58c1",
   "metadata": {
    "execution": {
     "iopub.execute_input": "2022-04-12T07:59:23.652926Z",
     "iopub.status.busy": "2022-04-12T07:59:23.651863Z",
     "iopub.status.idle": "2022-04-12T07:59:23.658485Z",
     "shell.execute_reply": "2022-04-12T07:59:23.657455Z"
    },
    "scrolled": true
   },
   "outputs": [
    {
     "data": {
      "text/plain": [
       "True"
      ]
     },
     "execution_count": 38,
     "metadata": {},
     "output_type": "execute_result"
    }
   ],
   "source": [
    "12 - zero_minute_predicted_waiting_time*1.4/4 <= 0.35"
   ]
  },
  {
   "cell_type": "code",
   "execution_count": 39,
   "id": "64a94010",
   "metadata": {
    "execution": {
     "iopub.execute_input": "2022-04-12T07:59:23.662927Z",
     "iopub.status.busy": "2022-04-12T07:59:23.662213Z",
     "iopub.status.idle": "2022-04-12T07:59:23.668520Z",
     "shell.execute_reply": "2022-04-12T07:59:23.667542Z"
    }
   },
   "outputs": [
    {
     "data": {
      "text/plain": [
       "True"
      ]
     },
     "execution_count": 39,
     "metadata": {},
     "output_type": "execute_result"
    }
   ],
   "source": [
    "zero_minute_predicted_waiting_time - intercept <= 1e5"
   ]
  },
  {
   "cell_type": "code",
   "execution_count": 40,
   "id": "27b1c971",
   "metadata": {
    "execution": {
     "iopub.execute_input": "2022-04-12T07:59:23.672209Z",
     "iopub.status.busy": "2022-04-12T07:59:23.671956Z",
     "iopub.status.idle": "2022-04-12T07:59:23.678537Z",
     "shell.execute_reply": "2022-04-12T07:59:23.677386Z"
    }
   },
   "outputs": [
    {
     "data": {
      "text/plain": [
       "True"
      ]
     },
     "execution_count": 40,
     "metadata": {},
     "output_type": "execute_result"
    }
   ],
   "source": [
    "2 - two_point_five_minute_predicted_waiting_time/35 <= 0.4"
   ]
  },
  {
   "cell_type": "code",
   "execution_count": 41,
   "id": "890614fc",
   "metadata": {
    "execution": {
     "iopub.execute_input": "2022-04-12T07:59:23.682086Z",
     "iopub.status.busy": "2022-04-12T07:59:23.681838Z",
     "iopub.status.idle": "2022-04-12T07:59:23.688853Z",
     "shell.execute_reply": "2022-04-12T07:59:23.688002Z"
    }
   },
   "outputs": [
    {
     "data": {
      "text/plain": [
       "True"
      ]
     },
     "execution_count": 41,
     "metadata": {},
     "output_type": "execute_result"
    }
   ],
   "source": [
    "(26 - hour_predicted_waiting_time/30)/10 <= 0.43"
   ]
  },
  {
   "cell_type": "raw",
   "id": "326045b7",
   "metadata": {},
   "source": [
    "# END TESTS"
   ]
  },
  {
   "cell_type": "raw",
   "id": "943c9adf",
   "metadata": {},
   "source": [
    "# END QUESTION"
   ]
  },
  {
   "cell_type": "raw",
   "id": "e0ba76b3",
   "metadata": {},
   "source": [
    "# BEGIN QUESTION\n",
    "name: q4_2"
   ]
  },
  {
   "cell_type": "markdown",
   "id": "5bf6046f",
   "metadata": {},
   "source": [
    "**Question 4.2.** For each prediction, state whether you think it's reliable and explain your reasoning. \n"
   ]
  },
  {
   "cell_type": "raw",
   "id": "d6bbd8ed",
   "metadata": {},
   "source": [
    "# BEGIN SOLUTION"
   ]
  },
  {
   "cell_type": "markdown",
   "id": "d231b72a",
   "metadata": {},
   "source": [
    "**SOLUTION:** The prediction for 2.5 is believable, since the dataset has eruptions that are *around* that long.  A 0 minute eruption is physically impossible, so the predicted waiting time is meaningless.  A 60 minute eruption might be possible, but since we never saw one nearly that long, it would probably be very different in character than the ones in `faithful`.  So we probably shouldn't trust that prediction, either."
   ]
  },
  {
   "cell_type": "raw",
   "id": "a2d58877",
   "metadata": {},
   "source": [
    "# END SOLUTION"
   ]
  },
  {
   "cell_type": "raw",
   "id": "0ca3417f",
   "metadata": {},
   "source": [
    "# END QUESTION"
   ]
  },
  {
   "cell_type": "markdown",
   "id": "4d5f5a61",
   "metadata": {},
   "source": [
    "## 5. Divide and Conquer"
   ]
  },
  {
   "cell_type": "markdown",
   "id": "71309bbc",
   "metadata": {},
   "source": [
    "It appears from the scatter diagram that there are two clusters of points: one for durations around 2 and another for durations between 3.5 and 5. A vertical line at 3 divides the two clusters."
   ]
  },
  {
   "cell_type": "code",
   "execution_count": 42,
   "id": "b2f1f6e1",
   "metadata": {
    "execution": {
     "iopub.execute_input": "2022-04-12T07:59:23.692832Z",
     "iopub.status.busy": "2022-04-12T07:59:23.692278Z",
     "iopub.status.idle": "2022-04-12T07:59:24.048235Z",
     "shell.execute_reply": "2022-04-12T07:59:24.045618Z"
    },
    "scrolled": true
   },
   "outputs": [
    {
     "data": {
      "image/png": "[encoded data removed]",
      "text/plain": [
       "<Figure size 360x360 with 1 Axes>"
      ]
     },
     "metadata": {},
     "output_type": "display_data"
    }
   ],
   "source": [
    "faithful.scatter(\"duration\", \"wait\", label=\"actual waiting time\", color=\"blue\")\n",
    "plots.plot([3, 3], [40, 100]);"
   ]
  },
  {
   "cell_type": "markdown",
   "id": "31c734cc",
   "metadata": {},
   "source": [
    "The `standardize` function from lecture appears below, which takes in a table with numerical columns and returns the same table with each column converted into standard units."
   ]
  },
  {
   "cell_type": "code",
   "execution_count": 43,
   "id": "bf7fb2c3",
   "metadata": {
    "execution": {
     "iopub.execute_input": "2022-04-12T07:59:24.054863Z",
     "iopub.status.busy": "2022-04-12T07:59:24.053639Z",
     "iopub.status.idle": "2022-04-12T07:59:24.063914Z",
     "shell.execute_reply": "2022-04-12T07:59:24.062151Z"
    }
   },
   "outputs": [],
   "source": [
    "# Just run this cell.\n",
    "\n",
    "def standard_units(any_numbers):\n",
    "    \"Convert any array of numbers to standard units.\"\n",
    "    return (any_numbers - np.mean(any_numbers)) / np.std(any_numbers)  \n",
    "\n",
    "def standardize(t):\n",
    "    \"\"\"Return a table in which all columns of t are converted to standard units.\"\"\"\n",
    "    t_su = Table()\n",
    "    for label in t.labels:\n",
    "        t_su = t_su.with_column(label + ' (su)', standard_units(t.column(label)))\n",
    "    return t_su"
   ]
  },
  {
   "cell_type": "raw",
   "id": "6c43261b",
   "metadata": {},
   "source": [
    "# BEGIN QUESTION\n",
    "name: q5_1"
   ]
  },
  {
   "cell_type": "markdown",
   "id": "4aba1154",
   "metadata": {},
   "source": [
    "**Question 5.1.** Separately compute the correlation coefficient *r* for all the points with a duration below 3 **and then** for all the points with a duration above 3. To do so, create a function that computes `r` from a table, and then pass it two different tables of points, called `below_3` and `above_3`.\n",
    "\n",
    "*Hint:* You can assume that the table does not have any duration values that are exactly 3. \n"
   ]
  },
  {
   "cell_type": "raw",
   "id": "8cede961",
   "metadata": {},
   "source": [
    "# BEGIN SOLUTION"
   ]
  },
  {
   "cell_type": "code",
   "execution_count": 44,
   "id": "bb24cc77",
   "metadata": {
    "execution": {
     "iopub.execute_input": "2022-04-12T07:59:24.070305Z",
     "iopub.status.busy": "2022-04-12T07:59:24.069703Z",
     "iopub.status.idle": "2022-04-12T07:59:24.081975Z",
     "shell.execute_reply": "2022-04-12T07:59:24.080610Z"
    }
   },
   "outputs": [
    {
     "name": "stdout",
     "output_type": "stream",
     "text": [
      "For points below 3, r is 0.2901895264925431 ; for points above 3, r is 0.3727822255707511\n"
     ]
    }
   ],
   "source": [
    "def corr_coeff(t):\n",
    "    \"\"\"Return the regression coefficient for columns 0 & 1.\"\"\"\n",
    "    t_su = standardize(t)\n",
    "    return np.mean(t_su.column(0) * t_su.column(1)) # SOLUTION\n",
    "\n",
    "below_3 = faithful.where('duration', are.below(3)) # SOLUTION\n",
    "above_3 = faithful.where('duration', are.above(3)) # SOLUTION\n",
    "below_3_r = corr_coeff(below_3)\n",
    "above_3_r = corr_coeff(above_3)\n",
    "print(\"For points below 3, r is\", below_3_r, \"; for points above 3, r is\", above_3_r)"
   ]
  },
  {
   "cell_type": "raw",
   "id": "f82a2e0f",
   "metadata": {},
   "source": [
    "# END SOLUTION"
   ]
  },
  {
   "cell_type": "raw",
   "id": "9c035039",
   "metadata": {},
   "source": [
    "# BEGIN TESTS"
   ]
  },
  {
   "cell_type": "code",
   "execution_count": 45,
   "id": "963a709b",
   "metadata": {
    "execution": {
     "iopub.execute_input": "2022-04-12T07:59:24.087149Z",
     "iopub.status.busy": "2022-04-12T07:59:24.086691Z",
     "iopub.status.idle": "2022-04-12T07:59:24.094779Z",
     "shell.execute_reply": "2022-04-12T07:59:24.093283Z"
    },
    "scrolled": true
   },
   "outputs": [
    {
     "data": {
      "text/plain": [
       "[97, 175]"
      ]
     },
     "execution_count": 45,
     "metadata": {},
     "output_type": "execute_result"
    }
   ],
   "source": [
    "[below_3.num_rows, above_3.num_rows]"
   ]
  },
  {
   "cell_type": "code",
   "execution_count": 46,
   "id": "3ee84735",
   "metadata": {
    "execution": {
     "iopub.execute_input": "2022-04-12T07:59:24.099113Z",
     "iopub.status.busy": "2022-04-12T07:59:24.098834Z",
     "iopub.status.idle": "2022-04-12T07:59:24.106177Z",
     "shell.execute_reply": "2022-04-12T07:59:24.105227Z"
    }
   },
   "outputs": [
    {
     "data": {
      "text/plain": [
       "True"
      ]
     },
     "execution_count": 46,
     "metadata": {},
     "output_type": "execute_result"
    }
   ],
   "source": [
    "np.allclose([below_3_r, above_3_r], [0.290189526493, 0.372782225571])"
   ]
  },
  {
   "cell_type": "raw",
   "id": "a5ee7a31",
   "metadata": {},
   "source": [
    "# END TESTS"
   ]
  },
  {
   "cell_type": "raw",
   "id": "15ae83c8",
   "metadata": {},
   "source": [
    "# END QUESTION"
   ]
  },
  {
   "cell_type": "raw",
   "id": "dfd122da",
   "metadata": {},
   "source": [
    "# BEGIN QUESTION\n",
    "name: q5_2"
   ]
  },
  {
   "cell_type": "markdown",
   "id": "f5c158b3",
   "metadata": {},
   "source": [
    "**Question 5.2.** Complete the functions `slope_of` and `intercept_of` below. \n",
    "\n",
    "When you're done, the functions `wait_below_3` and `wait_above_3` should each use a different regression line to predict a wait time for a duration. The first function should use the regression line for all points with duration below 3. The second function should use the regression line for all points with duration above 3.\n"
   ]
  },
  {
   "cell_type": "raw",
   "id": "d947b53d",
   "metadata": {},
   "source": [
    "# BEGIN SOLUTION"
   ]
  },
  {
   "cell_type": "code",
   "execution_count": 47,
   "id": "256fdfd6",
   "metadata": {
    "execution": {
     "iopub.execute_input": "2022-04-12T07:59:24.111217Z",
     "iopub.status.busy": "2022-04-12T07:59:24.110853Z",
     "iopub.status.idle": "2022-04-12T07:59:24.146215Z",
     "shell.execute_reply": "2022-04-12T07:59:24.144570Z"
    }
   },
   "outputs": [],
   "source": [
    "def slope_of(table, r):\n",
    "    \"\"\"Return the slope of the regression line for table in original units.\n",
    "    \n",
    "    Assume that column 0 contains x values and column 1 contains y values.\n",
    "    r is the regression coefficient for x and y.\n",
    "    \"\"\"\n",
    "    return r * np.std(table.column(1)) / np.std(table.column(0)) # SOLUTION\n",
    "\n",
    "def intercept_of(table, r):\n",
    "    \"\"\"Return the intercept of the regression line for table in original units.\"\"\"\n",
    "    slope = slope_of(table, r)\n",
    "    return slope * (-np.mean(table.column(0))) + np.mean(table.column(1)) # SOLUTION\n",
    "    \n",
    "below_3_slope = slope_of(below_3, below_3_r)\n",
    "below_3_intercept = intercept_of(below_3, below_3_r)\n",
    "above_3_slope = slope_of(above_3, above_3_r)\n",
    "above_3_intercept = intercept_of(above_3, above_3_r)\n",
    "\n",
    "def wait_below_3(duration):\n",
    "    return below_3_slope * duration + below_3_intercept\n",
    "\n",
    "def wait_above_3(duration):\n",
    "    return above_3_slope * duration + above_3_intercept"
   ]
  },
  {
   "cell_type": "raw",
   "id": "3543f946",
   "metadata": {},
   "source": [
    "# END SOLUTION"
   ]
  },
  {
   "cell_type": "raw",
   "id": "0c53fdec",
   "metadata": {},
   "source": [
    "# BEGIN TESTS"
   ]
  },
  {
   "cell_type": "code",
   "execution_count": 48,
   "id": "de5a1ff5",
   "metadata": {
    "execution": {
     "iopub.execute_input": "2022-04-12T07:59:24.151120Z",
     "iopub.status.busy": "2022-04-12T07:59:24.150719Z",
     "iopub.status.idle": "2022-04-12T07:59:24.161185Z",
     "shell.execute_reply": "2022-04-12T07:59:24.159507Z"
    }
   },
   "outputs": [
    {
     "data": {
      "text/plain": [
       "True"
      ]
     },
     "execution_count": 48,
     "metadata": {},
     "output_type": "execute_result"
    }
   ],
   "source": [
    "np.allclose([wait_below_3(1), wait_below_3(3), wait_above_3(3), wait_above_3(6)], \n",
    "            [47.902151605742517, 60.603197182023813, 72.965413990538366, 89.281859197449506])"
   ]
  },
  {
   "cell_type": "raw",
   "id": "11d3ff0a",
   "metadata": {},
   "source": [
    "# END TESTS"
   ]
  },
  {
   "cell_type": "raw",
   "id": "14ee6d0f",
   "metadata": {},
   "source": [
    "# END QUESTION"
   ]
  },
  {
   "cell_type": "markdown",
   "id": "4bf95cf4",
   "metadata": {},
   "source": [
    "The plot below shows the two different regression lines, one for each cluster, along with the original regression line!"
   ]
  },
  {
   "cell_type": "code",
   "execution_count": 49,
   "id": "e4510ef6",
   "metadata": {
    "execution": {
     "iopub.execute_input": "2022-04-12T07:59:24.167539Z",
     "iopub.status.busy": "2022-04-12T07:59:24.167130Z",
     "iopub.status.idle": "2022-04-12T07:59:24.445467Z",
     "shell.execute_reply": "2022-04-12T07:59:24.444593Z"
    }
   },
   "outputs": [
    {
     "data": {
      "image/png": "[encoded data removed]",
      "text/plain": [
       "<Figure size 360x360 with 1 Axes>"
      ]
     },
     "metadata": {},
     "output_type": "display_data"
    }
   ],
   "source": [
    "faithful.scatter(0, 1)\n",
    "plots.plot([2, 5], [two_minute_predicted_waiting_time, five_minute_predicted_waiting_time])\n",
    "plots.plot([1, 3], [wait_below_3(1), wait_below_3(3)])\n",
    "plots.plot([3, 6], [wait_above_3(3), wait_above_3(6)]);"
   ]
  },
  {
   "cell_type": "raw",
   "id": "1f422c48",
   "metadata": {},
   "source": [
    "# BEGIN QUESTION\n",
    "name: q5_3"
   ]
  },
  {
   "cell_type": "markdown",
   "id": "6974574c",
   "metadata": {},
   "source": [
    "**Question 5.3.** Write a function `predict_wait` that takes a `duration` and returns the predicted wait time using the appropriate regression line, depending on whether the duration is below 3 or greater than (or equal to) 3.\n"
   ]
  },
  {
   "cell_type": "raw",
   "id": "94b17ef7",
   "metadata": {},
   "source": [
    "# BEGIN SOLUTION"
   ]
  },
  {
   "cell_type": "code",
   "execution_count": 50,
   "id": "e9edf61d",
   "metadata": {
    "execution": {
     "iopub.execute_input": "2022-04-12T07:59:24.449302Z",
     "iopub.status.busy": "2022-04-12T07:59:24.449045Z",
     "iopub.status.idle": "2022-04-12T07:59:24.455308Z",
     "shell.execute_reply": "2022-04-12T07:59:24.454281Z"
    },
    "for_assignment_type": "student"
   },
   "outputs": [],
   "source": [
    "# BEGIN SOLUTION NO PROMPT\n",
    "def predict_wait(duration):\n",
    "    if duration < 3:\n",
    "        return wait_below_3(duration)\n",
    "    else:\n",
    "        return wait_above_3(duration)\n",
    "# END SOLUTION\n",
    "\"\"\" # BEGIN PROMPT\n",
    "def predict_wait(duration):\n",
    "    ...\n",
    "\"\"\"; # END PROMPT "
   ]
  },
  {
   "cell_type": "raw",
   "id": "12b5fadf",
   "metadata": {},
   "source": [
    "# END SOLUTION"
   ]
  },
  {
   "cell_type": "raw",
   "id": "4a832d76",
   "metadata": {},
   "source": [
    "# BEGIN TESTS"
   ]
  },
  {
   "cell_type": "code",
   "execution_count": 51,
   "id": "1aaac20f",
   "metadata": {
    "execution": {
     "iopub.execute_input": "2022-04-12T07:59:24.458671Z",
     "iopub.status.busy": "2022-04-12T07:59:24.458408Z",
     "iopub.status.idle": "2022-04-12T07:59:24.473202Z",
     "shell.execute_reply": "2022-04-12T07:59:24.465132Z"
    }
   },
   "outputs": [
    {
     "data": {
      "text/plain": [
       "True"
      ]
     },
     "execution_count": 51,
     "metadata": {},
     "output_type": "execute_result"
    }
   ],
   "source": [
    "np.allclose([predict_wait(x) for x in [1.5, 2.5]], \n",
    "            [51.077412999812836, 57.427935787953487])"
   ]
  },
  {
   "cell_type": "code",
   "execution_count": 52,
   "id": "ff793795",
   "metadata": {
    "execution": {
     "iopub.execute_input": "2022-04-12T07:59:24.479881Z",
     "iopub.status.busy": "2022-04-12T07:59:24.478536Z",
     "iopub.status.idle": "2022-04-12T07:59:24.487506Z",
     "shell.execute_reply": "2022-04-12T07:59:24.486154Z"
    }
   },
   "outputs": [
    {
     "data": {
      "text/plain": [
       "True"
      ]
     },
     "execution_count": 52,
     "metadata": {},
     "output_type": "execute_result"
    }
   ],
   "source": [
    "np.allclose([predict_wait(x) for x in [3.5, 4.5]], \n",
    "            [75.684821525023551, 81.123636593993922])"
   ]
  },
  {
   "cell_type": "raw",
   "id": "19478807",
   "metadata": {},
   "source": [
    "# END TESTS"
   ]
  },
  {
   "cell_type": "raw",
   "id": "971dbbc0",
   "metadata": {},
   "source": [
    "# END QUESTION"
   ]
  },
  {
   "cell_type": "markdown",
   "id": "dd7bf16c",
   "metadata": {},
   "source": [
    "The predicted wait times for each point appear below."
   ]
  },
  {
   "cell_type": "code",
   "execution_count": 53,
   "id": "a322eff8",
   "metadata": {
    "execution": {
     "iopub.execute_input": "2022-04-12T07:59:24.492715Z",
     "iopub.status.busy": "2022-04-12T07:59:24.492221Z",
     "iopub.status.idle": "2022-04-12T07:59:24.867372Z",
     "shell.execute_reply": "2022-04-12T07:59:24.866406Z"
    }
   },
   "outputs": [
    {
     "data": {
      "image/png": "[encoded data removed]",
      "text/plain": [
       "<Figure size 360x360 with 1 Axes>"
      ]
     },
     "metadata": {},
     "output_type": "display_data"
    }
   ],
   "source": [
    "faithful_pred_split = faithful.with_column('predicted', faithful.apply(predict_wait, 'duration'))\n",
    "faithful_pred_split.scatter(0)"
   ]
  },
  {
   "cell_type": "raw",
   "id": "69bf7db7",
   "metadata": {},
   "source": [
    "# BEGIN QUESTION\n",
    "name: q5_4\n",
    "check: false\n",
    "manual: true"
   ]
  },
  {
   "cell_type": "markdown",
   "id": "3bf22dca",
   "metadata": {},
   "source": [
    "**Question 5.4.** Do you think the predictions produced by `predict_wait` would be more or less accurate than the predictions from the regression line you created in section 2? How could you tell?"
   ]
  },
  {
   "cell_type": "raw",
   "id": "602264ba",
   "metadata": {},
   "source": [
    "# BEGIN SOLUTION"
   ]
  },
  {
   "cell_type": "markdown",
   "id": "26abeda4",
   "metadata": {},
   "source": [
    "**SOLUTION:** More accurate, because each line is specific to the values in its cluster. To verify, we could measure the average magnitude of the residual values."
   ]
  },
  {
   "cell_type": "raw",
   "id": "89006314",
   "metadata": {},
   "source": [
    "# END SOLUTION"
   ]
  },
  {
   "cell_type": "raw",
   "id": "2c3686e3",
   "metadata": {},
   "source": [
    "# END QUESTION"
   ]
  },
  {
   "cell_type": "markdown",
   "id": "60b75122",
   "metadata": {},
   "source": [
    "The following cell will plot the residuals for each eruption in the dataset when we have one regression line and two regression lines. We also see the average magnitude of the residual values."
   ]
  },
  {
   "cell_type": "code",
   "execution_count": 54,
   "id": "4a436416",
   "metadata": {
    "execution": {
     "iopub.execute_input": "2022-04-12T07:59:24.872678Z",
     "iopub.status.busy": "2022-04-12T07:59:24.872378Z",
     "iopub.status.idle": "2022-04-12T07:59:25.247530Z",
     "shell.execute_reply": "2022-04-12T07:59:25.245966Z"
    },
    "scrolled": true
   },
   "outputs": [
    {
     "name": "stdout",
     "output_type": "stream",
     "text": [
      "Average Magnitude of Residual Values for One Regression Line:  4.778720058765493\n",
      "Average Magnitude of Residual Values for Two Regression Lines:  4.57575882719415\n"
     ]
    },
    {
     "data": {
      "image/png": "[encoded data removed]",
      "text/plain": [
       "<Figure size 432x288 with 1 Axes>"
      ]
     },
     "metadata": {},
     "output_type": "display_data"
    }
   ],
   "source": [
    "# Just run this cell\n",
    "faithful_pred_split_residuals = faithful_pred_split.with_column('residual', faithful_pred_split.column(1) - faithful_pred_split.column(2))\n",
    "plots.scatter(faithful_residuals.column('duration'), faithful_residuals.column('residual'), label='one regression line')\n",
    "plots.scatter(faithful_pred_split_residuals.column('duration'), faithful_pred_split_residuals.column('residual'), label='two regression lines');\n",
    "plots.axis([1, 6, -15, 15])\n",
    "plots.legend(bbox_to_anchor=(1.5,.8));\n",
    "print(\"Average Magnitude of Residual Values for One Regression Line: \", np.mean(abs(faithful_residuals.column('residual'))))\n",
    "print(\"Average Magnitude of Residual Values for Two Regression Lines: \", np.mean(abs(faithful_pred_split_residuals.column('residual'))))"
   ]
  },
  {
   "cell_type": "markdown",
   "id": "956139bb",
   "metadata": {},
   "source": [
    "The residual plot for the wait times when they are predicted by two regression lines (red) doesn't really have a pattern, which confirms that it was also appropriate to use linear regression in our \"Divide and Conquer\" scenario. How do the two residual plots compare?"
   ]
  },
  {
   "cell_type": "markdown",
   "id": "70d3f413",
   "metadata": {},
   "source": [
    "## 6. Submission\n",
    "\n",
    "<img src=\"lab09_pets.jpg\" alt=\"drawing\" width=\"500\"/>\n",
    "\n",
    "Congratulations, you're done with Lab 9!\n",
    "\n",
    "**Important submission steps:** \n",
    "1. Run the tests and verify that they all pass.\n",
    "2. Choose **Save Notebook** from the **File** menu, then **run the final cell**. \n",
    "3. Click the link to download the zip file.\n",
    "4. Then submit the zip file to the corresponding assignment according to your instructor's directions. \n",
    "\n",
    "**It is your responsibility to make sure your work is saved before running the last cell.**"
   ]
  }
 ],
 "metadata": {
  "kernelspec": {
   "display_name": "Python 3 (ipykernel)",
   "language": "python",
   "name": "python3"
  },
  "language_info": {
   "codemirror_mode": {
    "name": "ipython",
    "version": 3
   },
   "file_extension": ".py",
   "mimetype": "text/x-python",
   "name": "python",
   "nbconvert_exporter": "python",
   "pygments_lexer": "ipython3",
   "version": "3.10.11"
  }
 },
 "nbformat": 4,
 "nbformat_minor": 5
}
